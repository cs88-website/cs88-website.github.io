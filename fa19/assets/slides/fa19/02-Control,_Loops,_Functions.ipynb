{
 "cells": [
  {
   "cell_type": "markdown",
   "metadata": {},
   "source": [
    "# Lecture 2 Notebook Companion\n",
    "\n",
    "This notebook contains the series of examples presented in lecture.  You should become versatile at working either with notebooks or with .py files. \n",
    "* Notebooks are especially well suited for the top level digital narrative of typical data analytics, which starts with raw data and a question and works step-by-step to an answer.  \n",
    "* Notebooks are also useful as you start out developing and testing functions are part of a large piece of code.\n",
    "* There comes a point where you are developing more sophisticated code that is independent of any particular bit of analysis.  You may still use the fruits of that labor by import.\n",
    "* In CS88 you will learn to develop more sizable pieces of code, so you'll go back and forth."
   ]
  },
  {
   "cell_type": "code",
   "execution_count": 16,
   "metadata": {},
   "outputs": [],
   "source": [
    "# This is a little piece of magic to help you test functions against\n",
    "# their doctest as you go.\n",
    "# This is equivalent to `python3 -m doctest file.py`\n",
    "import doctest\n",
    "def test(fun, verbose=False):\n",
    "    doctest.run_docstring_examples(fun, None, name=fun.__name__, verbose=verbose)"
   ]
  },
  {
   "cell_type": "markdown",
   "metadata": {},
   "source": [
    "## Remember: write the test before you write the code!"
   ]
  },
  {
   "cell_type": "code",
   "execution_count": 17,
   "metadata": {},
   "outputs": [],
   "source": [
    "def divides(number, divider):\n",
    "    \"\"\" Return whether divider divides number evenly.                       \n",
    "    >>> divides(3,2)                                                        \n",
    "    False\n",
    "    >>> divides(4,2)                                                        \n",
    "    True\n",
    "    \"\"\"\n",
    "    return (number % divider) == 0"
   ]
  },
  {
   "cell_type": "code",
   "execution_count": 18,
   "metadata": {},
   "outputs": [
    {
     "name": "stdout",
     "output_type": "stream",
     "text": [
      "Finding tests in divides\n",
      "Trying:\n",
      "    divides(3,2)                                                        \n",
      "Expecting:\n",
      "    False\n",
      "ok\n",
      "Trying:\n",
      "    divides(4,2)                                                        \n",
      "Expecting:\n",
      "    True\n",
      "ok\n"
     ]
    }
   ],
   "source": [
    "test(divides, verbose=True)"
   ]
  },
  {
   "cell_type": "markdown",
   "metadata": {},
   "source": [
    "## Function definition"
   ]
  },
  {
   "cell_type": "code",
   "execution_count": 65,
   "metadata": {},
   "outputs": [],
   "source": [
    "def dividers(n):\n",
    "    \"\"\"Return list of whether numbers greater than 1 that divide n.         \n",
    "                                                                                \n",
    "    >>> dividers(6)                                                         \n",
    "    [True, True]\n",
    "    >>> dividers(9)                                                         \n",
    "    [False, True, False]\n",
    "    \"\"\"\n",
    "    return [divides(n, factor) for factor in range(2, int(n/2)+1)]"
   ]
  },
  {
   "cell_type": "code",
   "execution_count": 67,
   "metadata": {},
   "outputs": [
    {
     "name": "stdout",
     "output_type": "stream",
     "text": [
      "Finding tests in dividers\n",
      "Trying:\n",
      "    dividers(6)                                                         \n",
      "Expecting:\n",
      "    [True, True]\n",
      "ok\n",
      "Trying:\n",
      "    dividers(9)                                                         \n",
      "Expecting:\n",
      "    [False, True, False]\n",
      "ok\n"
     ]
    }
   ],
   "source": [
    "test(dividers, verbose=True)"
   ]
  },
  {
   "cell_type": "markdown",
   "metadata": {},
   "source": [
    "# Lists"
   ]
  },
  {
   "cell_type": "code",
   "execution_count": 27,
   "metadata": {},
   "outputs": [
    {
     "name": "stdout",
     "output_type": "stream",
     "text": [
      "I am taking CS88\n",
      "I am taking DATA8\n",
      "I am taking POLSCI2\n",
      "I am taking PHILR1B\n"
     ]
    }
   ],
   "source": [
    "courses = ['CS88', 'DATA8', 'POLSCI2', 'PHILR1B']\n",
    "# print(courses)\n",
    "\n",
    "len(courses)\n",
    "\n",
    "courses[3]\n",
    "\n",
    "for course in courses:\n",
    "    print('I am taking ' + course)"
   ]
  },
  {
   "cell_type": "code",
   "execution_count": 34,
   "metadata": {},
   "outputs": [
    {
     "name": "stdout",
     "output_type": "stream",
     "text": [
      "1\n",
      "2\n",
      "3\n",
      "4\n",
      "5\n",
      "6\n",
      "7\n",
      "8\n",
      "9\n",
      "10\n"
     ]
    }
   ],
   "source": [
    "# ranges\n",
    "# Remember: Ranges are inclusive at the beginning and exclusive at the end.\n",
    "numbers = range(1, 11)\n",
    "print(numbers)\n",
    "# ranges do not have a clear \"prinatable\" value.\n",
    "# instead, we can convert them to a list, or iterate over values.\n",
    "# print(list(numbers))\n",
    "for number in numbers:\n",
    "    print(number)"
   ]
  },
  {
   "cell_type": "markdown",
   "metadata": {},
   "source": [
    "## For loop iteration"
   ]
  },
  {
   "cell_type": "code",
   "execution_count": 73,
   "metadata": {},
   "outputs": [],
   "source": [
    "def any_are_true(lst):\n",
    "    \"\"\"Return cumulative OR of entries in lst.                              \n",
    "    >>> any_are_true([True, False])                                               \n",
    "    True\n",
    "    >>> any_are_true([False, False])                                              \n",
    "    False\n",
    "    \"\"\"\n",
    "    result = False\n",
    "    for value in lst:\n",
    "        result = result or value\n",
    "    return result"
   ]
  },
  {
   "cell_type": "code",
   "execution_count": 74,
   "metadata": {},
   "outputs": [
    {
     "data": {
      "text/plain": [
       "True"
      ]
     },
     "execution_count": 74,
     "metadata": {},
     "output_type": "execute_result"
    }
   ],
   "source": [
    "True or True"
   ]
  },
  {
   "cell_type": "code",
   "execution_count": 75,
   "metadata": {},
   "outputs": [],
   "source": [
    "test(any_are_true)"
   ]
  },
  {
   "cell_type": "code",
   "execution_count": null,
   "metadata": {},
   "outputs": [],
   "source": [
    "def prime(n):\n",
    "    \"\"\"Return whether n is a prime number.                                  \n",
    "                                                                             \n",
    "    >>> prime(2)                                                            \n",
    "    True\n",
    "    >>> prime(3)                                                            \n",
    "    True\n",
    "    >>> prime(4)\n",
    "    False\n",
    "    \"\"\"\n",
    "    return"
   ]
  },
  {
   "cell_type": "code",
   "execution_count": null,
   "metadata": {},
   "outputs": [],
   "source": [
    "test(prime)"
   ]
  },
  {
   "cell_type": "code",
   "execution_count": null,
   "metadata": {},
   "outputs": [],
   "source": [
    "# But is our test really good enough?\n",
    "prime(1)"
   ]
  },
  {
   "cell_type": "code",
   "execution_count": null,
   "metadata": {},
   "outputs": [],
   "source": [
    "prime(-2)"
   ]
  },
  {
   "cell_type": "code",
   "execution_count": null,
   "metadata": {},
   "outputs": [],
   "source": [
    "def prime(n):\n",
    "    \"\"\"Return whether n is a prime number.                                  \n",
    "                                                                             \n",
    "    >>> prime(2)                                                            \n",
    "    True\n",
    "    >>> prime(3)                                                            \n",
    "    True\n",
    "    >>> prime(4)\n",
    "    False\n",
    "    >>> prime(1)                                                            \n",
    "    False\n",
    "    \"\"\"\n",
    "    return"
   ]
  },
  {
   "cell_type": "code",
   "execution_count": null,
   "metadata": {},
   "outputs": [],
   "source": [
    "test(prime)"
   ]
  },
  {
   "cell_type": "code",
   "execution_count": null,
   "metadata": {},
   "outputs": [],
   "source": [
    "def prime(n):\n",
    "    \"\"\"Return whether n is a prime number.                                  \n",
    "                                                                             \n",
    "    >>> prime(2)                                                            \n",
    "    True\n",
    "    >>> prime(3)                                                            \n",
    "    True\n",
    "    >>> prime(4)                                                            \n",
    "    False\n",
    "    >>> prime(1)                                                            \n",
    "    False\n",
    "    \"\"\"\n",
    "    pass"
   ]
  },
  {
   "cell_type": "code",
   "execution_count": null,
   "metadata": {},
   "outputs": [],
   "source": [
    "test(prime)"
   ]
  },
  {
   "cell_type": "code",
   "execution_count": null,
   "metadata": {},
   "outputs": [],
   "source": [
    "def primes(n):\n",
    "    \"\"\" Return primes up to n.\n",
    "    \n",
    "    >>> primes(10)\n",
    "    [2, 3, 5, 7]\n",
    "    \"\"\"\n",
    "    return"
   ]
  },
  {
   "cell_type": "code",
   "execution_count": null,
   "metadata": {},
   "outputs": [],
   "source": [
    "test(primes)"
   ]
  },
  {
   "cell_type": "code",
   "execution_count": null,
   "metadata": {},
   "outputs": [],
   "source": [
    "def first_primes(k):\n",
    "    \"\"\" Return the first k primes.\n",
    "    >>> first_primes(10)\n",
    "    [2, 3, 5, 7, 11, 13, 17, 19, 23, 29]\n",
    "    \"\"\"\n",
    "    primes = []\n",
    "    num = 2\n",
    "    return primes"
   ]
  },
  {
   "cell_type": "code",
   "execution_count": null,
   "metadata": {},
   "outputs": [],
   "source": [
    "first_primes(10)"
   ]
  },
  {
   "cell_type": "code",
   "execution_count": null,
   "metadata": {},
   "outputs": [],
   "source": [
    "test(first_primes)"
   ]
  },
  {
   "cell_type": "code",
   "execution_count": null,
   "metadata": {},
   "outputs": [],
   "source": []
  }
 ],
 "metadata": {
  "anaconda-cloud": {},
  "kernelspec": {
   "display_name": "Python 3",
   "language": "python",
   "name": "python3"
  },
  "language_info": {
   "codemirror_mode": {
    "name": "ipython",
    "version": 3
   },
   "file_extension": ".py",
   "mimetype": "text/x-python",
   "name": "python",
   "nbconvert_exporter": "python",
   "pygments_lexer": "ipython3",
   "version": "3.6.8"
  }
 },
 "nbformat": 4,
 "nbformat_minor": 2
}
