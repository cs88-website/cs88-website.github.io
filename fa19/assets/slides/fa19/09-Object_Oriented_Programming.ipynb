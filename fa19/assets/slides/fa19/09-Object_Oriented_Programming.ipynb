{
 "cells": [
  {
   "cell_type": "markdown",
   "metadata": {},
   "source": [
    "# OOP\n",
    "\n",
    "We're going to look at some bank account classes.\n"
   ]
  },
  {
   "cell_type": "code",
   "execution_count": 16,
   "metadata": {},
   "outputs": [],
   "source": [
    "class BaseAccount:\n",
    "    \n",
    "    def __init__(self, name, initial_deposit=0): \n",
    "        self._name = name \n",
    "        self._balance = initial_deposit \n",
    "\n",
    "    def name(self):\n",
    "        return self._name\n",
    "\n",
    "    def balance(self):\n",
    "        return self._balance\n",
    "\n",
    "    def withdraw(self, amount):\n",
    "        self._balance -= amount\n",
    "        return self._balance\n",
    "    \n",
    "    def deposit(self, amount):\n",
    "        self._balance += amount\n",
    "        return self._balance\n"
   ]
  },
  {
   "cell_type": "code",
   "execution_count": 17,
   "metadata": {},
   "outputs": [],
   "source": [
    "my_account = BaseAccount('CS88', 100)"
   ]
  },
  {
   "cell_type": "code",
   "execution_count": 18,
   "metadata": {},
   "outputs": [
    {
     "name": "stdout",
     "output_type": "stream",
     "text": [
      "<__main__.BaseAccount object at 0x7fae4c58a208>\n"
     ]
    },
    {
     "data": {
      "text/plain": [
       "90"
      ]
     },
     "execution_count": 18,
     "metadata": {},
     "output_type": "execute_result"
    }
   ],
   "source": [
    "print(my_account)\n",
    "my_account.withdraw(10)\n",
    "\n",
    "my_account.balance()"
   ]
  },
  {
   "cell_type": "code",
   "execution_count": 15,
   "metadata": {},
   "outputs": [
    {
     "data": {
      "text/plain": [
       "60"
      ]
     },
     "execution_count": 15,
     "metadata": {},
     "output_type": "execute_result"
    }
   ],
   "source": [
    "my_account._balance"
   ]
  },
  {
   "cell_type": "markdown",
   "metadata": {},
   "source": [
    "# clicker question\n",
    "\n",
    "## What is the value of `data8.balance()` after executing the following lines?\n",
    "\n",
    "```\n",
    "cs88 = BaseAccount('CS88', 100)\n",
    "data8 = BaseAccount('DATA8', 100)\n",
    "cs88.deposit(25)\n",
    "data8.withdraw(25)\n",
    "```\n",
    "\n",
    "### A) 100\n",
    "### B) 75\n",
    "### C) 125\n",
    "### D) Error\n",
    "### E) \"I'm confused, let's review!\""
   ]
  },
  {
   "cell_type": "markdown",
   "metadata": {},
   "source": [
    "# Class Attributes\n"
   ]
  },
  {
   "cell_type": "code",
   "execution_count": 64,
   "metadata": {},
   "outputs": [],
   "source": [
    "class BaseAccount2:\n",
    "    account_number_seed = 1000\n",
    "    accounts_list = []\n",
    "    \n",
    "    def __init__(self, name, initial_deposit=0): \n",
    "        self._name = name \n",
    "        self._balance = initial_deposit \n",
    "        self._acct_no = BaseAccount2.account_number_seed     \n",
    "        BaseAccount2.account_number_seed += 1\n",
    "        BaseAccount2.accounts_list += [self]\n",
    "\n",
    "    def name(self):\n",
    "        return self._name\n",
    "\n",
    "    def balance(self):\n",
    "        return self._balance\n",
    "\n",
    "    def withdraw(self, amount):\n",
    "        self._balance -= amount\n",
    "        return self._balance\n",
    "    \n",
    "    def deposit(self, amount):\n",
    "        self._balance += amount\n",
    "        return self._balance\n",
    "\n",
    "    def account_no(self):\n",
    "        return self._acct_no\n",
    "\n",
    "    # Can optionally use @classmethod\n",
    "    def accounts():\n",
    "        return BaseAccount2.accounts_list\n",
    "    \n",
    "    def show_accounts():\n",
    "        for account in BaseAccount2.accounts():\n",
    "            print(account.name(),\n",
    "                  account.account_no(),account.balance())\n",
    "\n"
   ]
  },
  {
   "cell_type": "code",
   "execution_count": 65,
   "metadata": {},
   "outputs": [],
   "source": [
    "data100 = BaseAccount2('DATA100')\n",
    "cs61b = BaseAccount2('CS61B')"
   ]
  },
  {
   "cell_type": "code",
   "execution_count": 66,
   "metadata": {},
   "outputs": [
    {
     "name": "stdout",
     "output_type": "stream",
     "text": [
      "1001\n",
      "1000\n"
     ]
    }
   ],
   "source": [
    "print(cs61b.account_no())\n",
    "print(data100.account_no())"
   ]
  },
  {
   "cell_type": "code",
   "execution_count": 67,
   "metadata": {},
   "outputs": [
    {
     "name": "stdout",
     "output_type": "stream",
     "text": [
      "DATA100 1000 0\n",
      "CS61B 1001 0\n",
      "None\n"
     ]
    }
   ],
   "source": [
    "print(BaseAccount2.show_accounts())"
   ]
  },
  {
   "cell_type": "markdown",
   "metadata": {},
   "source": [
    "## What is the value of `BaseAccount2.account_number_seed` after executing the following lines?\n",
    "\n",
    "```\n",
    "data100 = BaseAccount2('DATA100')\n",
    "cs61b = BaseAccount2('CS61B')\n",
    "```\n",
    "\n",
    "### A) 1000\n",
    "### B) 1001\n",
    "### C) 1002\n",
    "### D) 1003\n",
    "### E) \"I'm confused, let's review!\""
   ]
  },
  {
   "cell_type": "code",
   "execution_count": null,
   "metadata": {},
   "outputs": [],
   "source": []
  },
  {
   "cell_type": "code",
   "execution_count": null,
   "metadata": {},
   "outputs": [],
   "source": []
  },
  {
   "cell_type": "code",
   "execution_count": null,
   "metadata": {},
   "outputs": [],
   "source": []
  },
  {
   "cell_type": "code",
   "execution_count": null,
   "metadata": {},
   "outputs": [],
   "source": []
  },
  {
   "cell_type": "code",
   "execution_count": null,
   "metadata": {},
   "outputs": [],
   "source": []
  },
  {
   "cell_type": "code",
   "execution_count": null,
   "metadata": {},
   "outputs": [],
   "source": []
  },
  {
   "cell_type": "code",
   "execution_count": null,
   "metadata": {},
   "outputs": [],
   "source": []
  },
  {
   "cell_type": "code",
   "execution_count": 70,
   "metadata": {},
   "outputs": [
    {
     "data": {
      "text/plain": [
       "1002"
      ]
     },
     "execution_count": 70,
     "metadata": {},
     "output_type": "execute_result"
    }
   ],
   "source": [
    "BaseAccount2.account_number_seed"
   ]
  },
  {
   "cell_type": "code",
   "execution_count": null,
   "metadata": {},
   "outputs": [],
   "source": []
  }
 ],
 "metadata": {
  "kernelspec": {
   "display_name": "Python 3",
   "language": "python",
   "name": "python3"
  },
  "language_info": {
   "codemirror_mode": {
    "name": "ipython",
    "version": 3
   },
   "file_extension": ".py",
   "mimetype": "text/x-python",
   "name": "python",
   "nbconvert_exporter": "python",
   "pygments_lexer": "ipython3",
   "version": "3.6.8"
  }
 },
 "nbformat": 4,
 "nbformat_minor": 2
}
