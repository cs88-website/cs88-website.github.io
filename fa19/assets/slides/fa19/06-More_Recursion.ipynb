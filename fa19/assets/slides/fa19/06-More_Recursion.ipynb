{
 "cells": [
  {
   "cell_type": "code",
   "execution_count": 45,
   "metadata": {},
   "outputs": [],
   "source": [
    "def fib(n):\n",
    "    if n == 0:\n",
    "        return 0\n",
    "    if n == 1:\n",
    "        return 1\n",
    "    return fib(n - 1) + fib(n - 2)\n",
    "\n",
    "# Redefine fib, with a clearner base case:\n",
    "def fib(n):\n",
    "    if n < 2:\n",
    "        return n\n",
    "    return fib(n - 1) + fib(n - 2)"
   ]
  },
  {
   "cell_type": "code",
   "execution_count": 49,
   "metadata": {},
   "outputs": [
    {
     "data": {
      "text/plain": [
       "2"
      ]
     },
     "execution_count": 49,
     "metadata": {},
     "output_type": "execute_result"
    }
   ],
   "source": [
    "fib(3)"
   ]
  },
  {
   "cell_type": "code",
   "execution_count": 2,
   "metadata": {},
   "outputs": [],
   "source": [
    "def print_fib(n):\n",
    "    print('Calling fib w/ n: ', n)\n",
    "    if n < 2:\n",
    "        return n\n",
    "    return print_fib(n - 1) + print_fib(n - 2)"
   ]
  },
  {
   "cell_type": "code",
   "execution_count": 3,
   "metadata": {},
   "outputs": [
    {
     "name": "stdout",
     "output_type": "stream",
     "text": [
      "Calling fib w/ n:  4\n",
      "Calling fib w/ n:  3\n",
      "Calling fib w/ n:  2\n",
      "Calling fib w/ n:  1\n",
      "Calling fib w/ n:  0\n",
      "Calling fib w/ n:  1\n",
      "Calling fib w/ n:  2\n",
      "Calling fib w/ n:  1\n",
      "Calling fib w/ n:  0\n"
     ]
    },
    {
     "data": {
      "text/plain": [
       "3"
      ]
     },
     "execution_count": 3,
     "metadata": {},
     "output_type": "execute_result"
    }
   ],
   "source": [
    "print_fib(4)"
   ]
  },
  {
   "cell_type": "code",
   "execution_count": null,
   "metadata": {},
   "outputs": [],
   "source": []
  },
  {
   "cell_type": "markdown",
   "metadata": {},
   "source": [
    "# Key Value Pairs.\n",
    "\n",
    "A \"Key-Value Pair\" is a mapping of some name to some value.\n",
    "\n",
    "We are going to use a \"Phone Book\" which maps a name of a contact to a phone number."
   ]
  },
  {
   "cell_type": "code",
   "execution_count": 10,
   "metadata": {},
   "outputs": [
    {
     "name": "stdout",
     "output_type": "stream",
     "text": [
      "Jack Chows's Number:  617-547-0923\n",
      "Area codes\n",
      "['510', '932', '617', '310', '415', '707']\n"
     ]
    }
   ],
   "source": [
    "phone_book_data = [\n",
    "        (\"Christine Strauch\", \"510-842-9235\"),\n",
    "        (\"Frances Catal Buloan\", \"932-567-3241\"),\n",
    "        (\"Jack Chow\", \"617-547-0923\"),\n",
    "        (\"Joy De Rosario\", \"310-912-6483\"),\n",
    "        (\"Casey Casem\", \"415-432-9292\"),\n",
    "        (\"Lydia Lu\", \"707-341-1254\")\n",
    "]\n",
    "\n",
    "phone_book = pb_create(phone_book_data)\n",
    "\n",
    "print(\"Jack Chows's Number: \", pb_get(phone_book, \"Jack Chow\"))\n",
    "print(\"Area codes\")\n",
    "area_codes = list(map(lambda x:x[0:3], pb_numbers(phone_book)))\n",
    "print(area_codes)\n"
   ]
  },
  {
   "cell_type": "markdown",
   "metadata": {},
   "source": [
    "## Building Our Phone Book ADT"
   ]
  },
  {
   "cell_type": "code",
   "execution_count": 43,
   "metadata": {},
   "outputs": [],
   "source": [
    "def pb_create(lst):\n",
    "    result = []\n",
    "    for item in lst:\n",
    "        result.append(new_contact(item[0], item[1]))\n",
    "    return result\n",
    "\n",
    "def pb_get(data, name):\n",
    "    \"\"\"\n",
    "    Return the contact info for a person.\n",
    "    \"\"\"\n",
    "    for contact in data:\n",
    "        if contact_name(contact) == name:\n",
    "            return contact_number(contact)\n",
    "    return \"Error: Contact Not Found\"\n",
    "\n",
    "def pb_names(book):\n",
    "    return list(map(contact_name, book))\n",
    "\n",
    "def pb_numbers(book):\n",
    "    return list(map(contact_number, book))\n",
    "\n",
    "def new_contact(name, number):\n",
    "    return [name, number]\n",
    "\n",
    "def contact_name(contact):\n",
    "    return contact[0]\n",
    "\n",
    "def contact_number(contact):\n",
    "    return contact[1]\n"
   ]
  },
  {
   "cell_type": "code",
   "execution_count": null,
   "metadata": {},
   "outputs": [],
   "source": []
  },
  {
   "cell_type": "markdown",
   "metadata": {},
   "source": [
    "# Dictionaires\n",
    "\n",
    "`dicts` are a Python feature which are essentially \"key value pairs\".\n",
    "We are going to rebuild our phone book using dictionaries."
   ]
  },
  {
   "cell_type": "code",
   "execution_count": 36,
   "metadata": {},
   "outputs": [
    {
     "name": "stdout",
     "output_type": "stream",
     "text": [
      "{'Once': 4, 'upon': 4, 'a': 1, 'time': 4}\n"
     ]
    }
   ],
   "source": [
    "text = \"Once upon a time\"\n",
    "\n",
    "d = { word : len(word) for word in text.split() }\n",
    "print(d)"
   ]
  },
  {
   "cell_type": "code",
   "execution_count": 41,
   "metadata": {},
   "outputs": [
    {
     "data": {
      "text/plain": [
       "True"
      ]
     },
     "execution_count": 41,
     "metadata": {},
     "output_type": "execute_result"
    }
   ],
   "source": [
    "d.keys()\n",
    "\n",
    "# \"time\" in d"
   ]
  },
  {
   "cell_type": "code",
   "execution_count": 42,
   "metadata": {},
   "outputs": [
    {
     "name": "stdout",
     "output_type": "stream",
     "text": [
      "Key: Once => Value: 4\n",
      "Key: upon => Value: 4\n",
      "Key: a => Value: 1\n",
      "Key: time => Value: 4\n"
     ]
    }
   ],
   "source": [
    "for (key, value) in d.items():\n",
    "    print(\"Key: \" + key + \" => Value: \" + str(value))"
   ]
  },
  {
   "cell_type": "markdown",
   "metadata": {},
   "source": [
    "# Extra: Rewriting Our Contacts As a Dictionary"
   ]
  },
  {
   "cell_type": "code",
   "execution_count": 19,
   "metadata": {},
   "outputs": [],
   "source": [
    "def dict_pb_create(lst):\n",
    "    book = {}\n",
    "    for item in lst:\n",
    "        dict_new_contact(book, item[0], item[1])\n",
    "    return book\n",
    "\n",
    "def dict_pb_get(data, name):\n",
    "    \"\"\"\n",
    "    Return the contact info for a person.\n",
    "    \"\"\"\n",
    "    return data[name]\n",
    "\n",
    "\n",
    "def dict_pb_numbers(book):\n",
    "    return book.values() # values() is a built in method.\n",
    "\n",
    "def dict_new_contact(phone_book, name, number):\n",
    "    \"Adds a new contact to a phone book\"\n",
    "    phone_book[name] = number\n",
    "\n",
    "# In the dictionary representation these are not as necessary.\n",
    "# def contact_name(contact):\n",
    "#     return contact[0]\n",
    "\n",
    "# def contact_number(contact):\n",
    "#     return contact[1]"
   ]
  },
  {
   "cell_type": "code",
   "execution_count": 20,
   "metadata": {},
   "outputs": [
    {
     "name": "stdout",
     "output_type": "stream",
     "text": [
      "Jack Chows's Number:  617-547-0923\n",
      "Area codes\n",
      "['510', '932', '617', '310', '415', '707']\n"
     ]
    }
   ],
   "source": [
    "pb2 = dict_pb_create(phone_book_data)\n",
    "\n",
    "print(\"Jack Chows's Number: \", dict_pb_get(pb2, \"Jack Chow\"))\n",
    "print(\"Area codes\")\n",
    "area_codes = list(map(lambda x:x[0:3], dict_pb_numbers(pb2)))\n",
    "print(area_codes)"
   ]
  },
  {
   "cell_type": "code",
   "execution_count": null,
   "metadata": {},
   "outputs": [],
   "source": []
  }
 ],
 "metadata": {
  "kernelspec": {
   "display_name": "Python 3",
   "language": "python",
   "name": "python3"
  },
  "language_info": {
   "codemirror_mode": {
    "name": "ipython",
    "version": 3
   },
   "file_extension": ".py",
   "mimetype": "text/x-python",
   "name": "python",
   "nbconvert_exporter": "python",
   "pygments_lexer": "ipython3",
   "version": "3.6.8"
  }
 },
 "nbformat": 4,
 "nbformat_minor": 2
}
