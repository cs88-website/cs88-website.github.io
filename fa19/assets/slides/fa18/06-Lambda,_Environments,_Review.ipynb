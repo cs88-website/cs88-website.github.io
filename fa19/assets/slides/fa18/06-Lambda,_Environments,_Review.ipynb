{
 "cells": [
  {
   "cell_type": "markdown",
   "metadata": {},
   "source": [
    "# CS88 Lecture 6 - Lambda, Environments, Review"
   ]
  },
  {
   "cell_type": "code",
   "execution_count": null,
   "metadata": {
    "collapsed": false,
    "deletable": true,
    "editable": true
   },
   "outputs": [],
   "source": [
    "def split(p, s):\n",
    "    \"\"\" Returns a pair of lists based on applying predicate p to sequence s.\n",
    "    \"\"\"\n",
    "    return [i for i in s if p(i)], [i for i in s if not p(i)]"
   ]
  },
  {
   "cell_type": "code",
   "execution_count": null,
   "metadata": {
    "collapsed": true,
    "deletable": true,
    "editable": true
   },
   "outputs": [],
   "source": [
    "def leq_maker(v):\n",
    "    def leqv(x):\n",
    "        return x <= v\n",
    "    return leqv"
   ]
  },
  {
   "cell_type": "code",
   "execution_count": null,
   "metadata": {
    "collapsed": false,
    "deletable": true,
    "editable": true
   },
   "outputs": [],
   "source": [
    "leq3 = leq_maker(3)\n",
    "leq3"
   ]
  },
  {
   "cell_type": "code",
   "execution_count": null,
   "metadata": {
    "collapsed": false,
    "deletable": true,
    "editable": true
   },
   "outputs": [],
   "source": [
    "leq3(5), leq3(2)"
   ]
  },
  {
   "cell_type": "code",
   "execution_count": null,
   "metadata": {
    "collapsed": false,
    "deletable": true,
    "editable": true
   },
   "outputs": [],
   "source": [
    "split(leq3, [1, 5, 2, 6])"
   ]
  },
  {
   "cell_type": "code",
   "execution_count": null,
   "metadata": {
    "collapsed": false,
    "deletable": true,
    "editable": true
   },
   "outputs": [],
   "source": [
    "def split(p, s):\n",
    "    \"\"\" Returns a pair of lists based on applying predicate p to sequence s.\n",
    "    \"\"\"\n",
    "    return [i for i in s if p(i)], [i for i in s if not p(i)]\n",
    "\n",
    "def leq_maker(v):\n",
    "    def leqv(x):\n",
    "        return x <= v\n",
    "    return leqv\n",
    "\n",
    "def qsort(s):\n",
    "    \"\"\"Sort a sequence by recursively splitting and sorting\n",
    "    \"\"\"\n",
    "    if not s:\n",
    "        return []\n",
    "    else:\n",
    "        pivot = s[0]\n",
    "        lessor, more = split(leq_maker(pivot), s[1:])\n",
    "        return qsort(lessor) + [pivot] + qsort(more)"
   ]
  },
  {
   "cell_type": "code",
   "execution_count": null,
   "metadata": {
    "collapsed": false,
    "deletable": true,
    "editable": true
   },
   "outputs": [],
   "source": [
    "qsort(([3,1,5,4,3,2,17]))"
   ]
  },
  {
   "cell_type": "markdown",
   "metadata": {
    "deletable": true,
    "editable": true
   },
   "source": [
    "[qsort python tutor](http://pythontutor.com/visualize.html#code=def%20split%28p,%20s%29%3A%0A%20%20%20%20%22%22%22%20Returns%20a%20pair%20of%20lists%20based%20on%20applying%20predicate%20p%20to%20sequence%20s.%0A%20%20%20%20%22%22%22%0A%20%20%20%20return%20%5Bi%20for%20i%20in%20s%20if%20p%28i%29%5D,%20%5Bi%20for%20i%20in%20s%20if%20not%20p%28i%29%5D%0A%0Adef%20leq_maker%28v%29%3A%0A%20%20%20%20def%20leqv%28x%29%3A%0A%20%20%20%20%20%20%20%20return%20x%20%3C%3D%20v%0A%20%20%20%20return%20leqv%0A%0Adef%20qsort%28s%29%3A%0A%20%20%20%20%22%22%22Sort%20a%20sequence%20by%20recursively%20splitting%20and%20sorting%0A%20%20%20%20%22%22%22%0A%20%20%20%20if%20not%20s%3A%0A%20%20%20%20%20%20%20%20return%20%5B%5D%0A%20%20%20%20else%3A%0A%20%20%20%20%20%20%20%20pivot%20%3D%20s%5B0%5D%0A%20%20%20%20%20%20%20%20lessor,%20more%20%3D%20split%28leq_maker%28pivot%29,%20s%5B1%3A%5D%29%0A%20%20%20%20%20%20%20%20return%20qsort%28lessor%29%20%2B%20%5Bpivot%5D%20%2B%20qsort%28more%29%0A%0Aqsort%28%28%5B3,1,5,3,2,17%5D%29%29&cumulative=false&curInstr=18&heapPrimitives=nevernest&mode=display&origin=opt-frontend.js&py=3&rawInputLstJSON=%5B%5D&textReferences=false)"
   ]
  },
  {
   "cell_type": "code",
   "execution_count": null,
   "metadata": {
    "collapsed": true,
    "deletable": true,
    "editable": true
   },
   "outputs": [],
   "source": []
  },
  {
   "cell_type": "markdown",
   "metadata": {
    "deletable": true,
    "editable": true
   },
   "source": [
    "# Lambda - define a function value as an expression\n",
    "\n",
    "The result of any expression is an anonymous value.  It can be assigned to something to bind the name of the variable on the LHS to the value on the RHS.  The value itself is not a name."
   ]
  },
  {
   "cell_type": "code",
   "execution_count": null,
   "metadata": {
    "collapsed": false,
    "deletable": true,
    "editable": true
   },
   "outputs": [],
   "source": [
    "2 + 3 * 4"
   ]
  },
  {
   "cell_type": "code",
   "execution_count": null,
   "metadata": {
    "collapsed": true,
    "deletable": true,
    "editable": true
   },
   "outputs": [],
   "source": [
    "x = 2 + 3 * 4"
   ]
  },
  {
   "cell_type": "code",
   "execution_count": null,
   "metadata": {
    "collapsed": false,
    "deletable": true,
    "editable": true
   },
   "outputs": [],
   "source": [
    "x"
   ]
  },
  {
   "cell_type": "code",
   "execution_count": null,
   "metadata": {
    "collapsed": true,
    "deletable": true,
    "editable": true
   },
   "outputs": [],
   "source": [
    "# Introduces a name and binds it to a function value\n",
    "def leq_3(x):\n",
    "    return x <= 3"
   ]
  },
  {
   "cell_type": "code",
   "execution_count": null,
   "metadata": {
    "collapsed": false,
    "deletable": true,
    "editable": true
   },
   "outputs": [],
   "source": [
    "# Use it in a call expression - call it\n",
    "leq_3(4)"
   ]
  },
  {
   "cell_type": "code",
   "execution_count": null,
   "metadata": {
    "collapsed": false,
    "deletable": true,
    "editable": true
   },
   "outputs": [],
   "source": [
    "# Its value?\n",
    "leq_3"
   ]
  },
  {
   "cell_type": "code",
   "execution_count": null,
   "metadata": {
    "collapsed": false,
    "deletable": true,
    "editable": true
   },
   "outputs": [],
   "source": [
    "# Pass it as a value to a function\n",
    "split(leq_3, [1, 5, 2, 6])"
   ]
  },
  {
   "cell_type": "markdown",
   "metadata": {
    "deletable": true,
    "editable": true
   },
   "source": [
    "## How do you express a function as an expression?"
   ]
  },
  {
   "cell_type": "code",
   "execution_count": null,
   "metadata": {
    "collapsed": false,
    "deletable": true,
    "editable": true
   },
   "outputs": [],
   "source": [
    "lambda x: x <= 3"
   ]
  },
  {
   "cell_type": "code",
   "execution_count": null,
   "metadata": {
    "collapsed": true,
    "deletable": true,
    "editable": true
   },
   "outputs": [],
   "source": [
    "# Assign it to a variable\n",
    "lq3 = lambda x: x <= 3"
   ]
  },
  {
   "cell_type": "code",
   "execution_count": null,
   "metadata": {
    "collapsed": false,
    "deletable": true,
    "editable": true
   },
   "outputs": [],
   "source": [
    "lq3"
   ]
  },
  {
   "cell_type": "code",
   "execution_count": null,
   "metadata": {
    "collapsed": false,
    "deletable": true,
    "editable": true
   },
   "outputs": [],
   "source": [
    "lq3(5)"
   ]
  },
  {
   "cell_type": "markdown",
   "metadata": {
    "deletable": true,
    "editable": true
   },
   "source": [
    "Often you want to use the function expression just once, especially with higher order functions"
   ]
  },
  {
   "cell_type": "code",
   "execution_count": null,
   "metadata": {
    "collapsed": false,
    "deletable": true,
    "editable": true
   },
   "outputs": [],
   "source": [
    "split(lambda x: x <= 3, [1, 5, 2, 6])"
   ]
  },
  {
   "cell_type": "code",
   "execution_count": null,
   "metadata": {
    "collapsed": true,
    "deletable": true,
    "editable": true
   },
   "outputs": [],
   "source": [
    "def qsort(s):\n",
    "    \"\"\"Sort a sequence by recursively splitting and sorting\n",
    "    \"\"\"\n",
    "    if not s:\n",
    "        return []\n",
    "    else:\n",
    "        pivot = s[0]\n",
    "        def leqpivot(x):\n",
    "            return x <= pivot\n",
    "        lessor, more = split(leqpivot, s[1:])\n",
    "        return qsort(lessor) + [pivot] + qsort(more)"
   ]
  },
  {
   "cell_type": "code",
   "execution_count": null,
   "metadata": {
    "collapsed": false,
    "deletable": true,
    "editable": true
   },
   "outputs": [],
   "source": [
    "qsort(([3,1,5,4,3,2,17]))"
   ]
  },
  {
   "cell_type": "code",
   "execution_count": null,
   "metadata": {
    "collapsed": true,
    "deletable": true,
    "editable": true
   },
   "outputs": [],
   "source": [
    "def qsort(s):\n",
    "    \"\"\"Sort a sequence by recursively splitting and sorting\n",
    "    \"\"\"\n",
    "    if not s:\n",
    "        return []\n",
    "    else:\n",
    "        pivot = s[0]\n",
    "        lessor, more = split(lambda x: x<=pivot, s[1:])\n",
    "        return qsort(lessor) + [pivot] + qsort(more)"
   ]
  },
  {
   "cell_type": "code",
   "execution_count": null,
   "metadata": {
    "collapsed": false,
    "deletable": true,
    "editable": true
   },
   "outputs": [],
   "source": [
    "qsort(([3,1,5,4,3,2,17]))"
   ]
  },
  {
   "cell_type": "markdown",
   "metadata": {
    "deletable": true,
    "editable": true
   },
   "source": [
    "## What if we wanted to sort in increasing order?\n",
    "\n",
    "Or something other than integers? Tuples?"
   ]
  },
  {
   "cell_type": "code",
   "execution_count": null,
   "metadata": {
    "collapsed": true,
    "deletable": true,
    "editable": true
   },
   "outputs": [],
   "source": [
    "def split(p, s):\n",
    "    \"\"\" Returns a pair of lists based on applying predicate p to sequence s.\n",
    "    \"\"\"\n",
    "    return [i for i in s if p(i)], [i for i in s if not p(i)]\n",
    "\n",
    "def sort(s, comparator):\n",
    "    \"\"\"Sort a sequence using a comparator\n",
    "    \"\"\"\n",
    "    if not s:\n",
    "        return []\n",
    "    else:\n",
    "        pivot = s[0]\n",
    "        lessor, more = split(lambda x: comparator(x, pivot), s[1:])\n",
    "        return sort(lessor, comparator) + [pivot] + sort(more, comparator)"
   ]
  },
  {
   "cell_type": "code",
   "execution_count": null,
   "metadata": {
    "collapsed": false,
    "deletable": true,
    "editable": true
   },
   "outputs": [],
   "source": [
    "split(lambda x: x <= 3, [3,1,5,4,3,2,17])"
   ]
  },
  {
   "cell_type": "code",
   "execution_count": null,
   "metadata": {
    "collapsed": false,
    "deletable": true,
    "editable": true
   },
   "outputs": [],
   "source": [
    "split(lambda x: x > 3, [3,1,5,4,3,2,17])"
   ]
  },
  {
   "cell_type": "code",
   "execution_count": null,
   "metadata": {
    "collapsed": true,
    "deletable": true,
    "editable": true
   },
   "outputs": [],
   "source": [
    "def gt(x,y):\n",
    "    return x > y\n",
    "\n",
    "def lq(x,y):\n",
    "    return x <= y\n",
    "\n",
    "def gq(x,y):\n",
    "    return x >= y"
   ]
  },
  {
   "cell_type": "code",
   "execution_count": null,
   "metadata": {
    "collapsed": false,
    "deletable": true,
    "editable": true
   },
   "outputs": [],
   "source": [
    "split(lambda x: gt(x,3), [3,1,5,4,3,2,17])"
   ]
  },
  {
   "cell_type": "code",
   "execution_count": null,
   "metadata": {
    "collapsed": false,
    "deletable": true,
    "editable": true
   },
   "outputs": [],
   "source": [
    "split(lambda x: gq(x,3), [3,1,5,4,3,2,17])"
   ]
  },
  {
   "cell_type": "code",
   "execution_count": null,
   "metadata": {
    "collapsed": false,
    "deletable": true,
    "editable": true
   },
   "outputs": [],
   "source": [
    "sort(([3,1,5,4,3,2,17]), gq)"
   ]
  },
  {
   "cell_type": "code",
   "execution_count": null,
   "metadata": {
    "collapsed": false,
    "deletable": true,
    "editable": true
   },
   "outputs": [],
   "source": [
    "sort(([3,1,5,4,3,2,17]), lambda x,y: x > y)"
   ]
  },
  {
   "cell_type": "code",
   "execution_count": null,
   "metadata": {
    "collapsed": false,
    "deletable": true,
    "editable": true
   },
   "outputs": [],
   "source": [
    "sort([(3, \"grape\"), (2, \"apple\"), (5, \"banana\")], lambda x,y: x[0] > y[0])"
   ]
  },
  {
   "cell_type": "code",
   "execution_count": null,
   "metadata": {
    "collapsed": false,
    "deletable": true,
    "editable": true
   },
   "outputs": [],
   "source": [
    "sort([(3, \"grape\"), (2, \"apple\"), (5, \"banana\")], lambda x,y: x[1] < y[1])"
   ]
  },
  {
   "cell_type": "code",
   "execution_count": null,
   "metadata": {
    "collapsed": false,
    "deletable": true,
    "editable": true
   },
   "outputs": [],
   "source": [
    "sort([(3, \"grape\"), (2, \"apple\"), (5, \"banana\")], lq)"
   ]
  },
  {
   "cell_type": "code",
   "execution_count": null,
   "metadata": {
    "collapsed": false,
    "deletable": true,
    "editable": true
   },
   "outputs": [],
   "source": [
    "sort([(3, \"grape\"), (2, \"apple\"), (5, \"banana\")], gq)"
   ]
  },
  {
   "cell_type": "markdown",
   "metadata": {
    "deletable": true,
    "editable": true
   },
   "source": [
    "[Python Tutor](http://pythontutor.com/visualize.html#code=def%20split%28p,%20s%29%3A%0A%20%20%20%20%22%22%22%20Returns%20a%20pair%20of%20lists%20based%20on%20applying%20predicate%20p%20to%20sequence%20s.%0A%20%20%20%20%22%22%22%0A%20%20%20%20return%20%5Bi%20for%20i%20in%20s%20if%20p%28i%29%5D,%20%5Bi%20for%20i%20in%20s%20if%20not%20p%28i%29%5D%0A%0Adef%20sort%28s,%20comparator%29%3A%0A%20%20%20%20%22%22%22Sort%20a%20sequence%20using%20a%20comparator%0A%20%20%20%20%22%22%22%0A%20%20%20%20if%20not%20s%3A%0A%20%20%20%20%20%20%20%20return%20%5B%5D%0A%20%20%20%20else%3A%0A%20%20%20%20%20%20%20%20pivot%20%3D%20s%5B0%5D%0A%20%20%20%20%20%20%20%20lessor,%20more%20%3D%20split%28lambda%20x%3A%20comparator%28x,%20pivot%29,%20s%5B1%3A%5D%29%0A%20%20%20%20%20%20%20%20return%20sort%28lessor,%20comparator%29%20%2B%20%5Bpivot%5D%20%2B%20sort%28more,%20comparator%29%0A%20%20%20%20%20%20%20%20%0Adef%20lq%28x,y%29%3A%0A%20%20%20%20return%20x%20%3C%3D%20y%0A%0Asort%28%28%5B3,1,5,4,3,2,17%5D%29,%20lq%29&cumulative=false&curInstr=14&heapPrimitives=nevernest&mode=display&origin=opt-frontend.js&py=3&rawInputLstJSON=%5B%5D&textReferences=false)\n"
   ]
  }
 ],
 "metadata": {
  "anaconda-cloud": {},
  "kernelspec": {
   "display_name": "Python [conda env:datascience]",
   "language": "python",
   "name": "conda-env-datascience-py"
  },
  "language_info": {
   "codemirror_mode": {
    "name": "ipython",
    "version": 3
   },
   "file_extension": ".py",
   "mimetype": "text/x-python",
   "name": "python",
   "nbconvert_exporter": "python",
   "pygments_lexer": "ipython3",
   "version": "3.5.3"
  }
 },
 "nbformat": 4,
 "nbformat_minor": 2
}
