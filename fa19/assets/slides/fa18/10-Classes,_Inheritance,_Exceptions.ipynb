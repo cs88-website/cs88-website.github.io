{
 "cells": [
  {
   "cell_type": "markdown",
   "metadata": {},
   "source": [
    "# CS88 Lecture 10 - Exceptions"
   ]
  },
  {
   "cell_type": "markdown",
   "metadata": {
    "deletable": true,
    "editable": true
   },
   "source": [
    "## Exceptions\n",
    "\n",
    "What happens when your program attempts to do something that just can't be done?\n",
    "\n",
    "This should not be normal.  It should be rare!  Typically happens when your program encounters and *exceptional* situation"
   ]
  },
  {
   "cell_type": "code",
   "execution_count": null,
   "metadata": {
    "collapsed": false,
    "deletable": true,
    "editable": true
   },
   "outputs": [],
   "source": [
    "3/0"
   ]
  },
  {
   "cell_type": "code",
   "execution_count": null,
   "metadata": {
    "collapsed": false,
    "deletable": true,
    "editable": true
   },
   "outputs": [],
   "source": [
    "str.lower(1)"
   ]
  },
  {
   "cell_type": "code",
   "execution_count": null,
   "metadata": {
    "collapsed": false,
    "deletable": true,
    "editable": true
   },
   "outputs": [],
   "source": [
    "\"\"[3]"
   ]
  },
  {
   "cell_type": "code",
   "execution_count": null,
   "metadata": {
    "collapsed": false,
    "deletable": true,
    "editable": true
   },
   "outputs": [],
   "source": [
    "3 % 0"
   ]
  },
  {
   "cell_type": "markdown",
   "metadata": {
    "deletable": true,
    "editable": true
   },
   "source": [
    "## Q: What should a function do?\n",
    "\n",
    "## A: One thing well.\n",
    "\n",
    "## Q: What should it do if it is passed arguments that don't make sense?"
   ]
  },
  {
   "cell_type": "code",
   "execution_count": null,
   "metadata": {
    "collapsed": true,
    "deletable": true,
    "editable": true
   },
   "outputs": [],
   "source": [
    "def divides(x, y):\n",
    "    return y%x == 0"
   ]
  },
  {
   "cell_type": "code",
   "execution_count": null,
   "metadata": {
    "collapsed": true,
    "deletable": true,
    "editable": true
   },
   "outputs": [],
   "source": [
    "def get(data, selector):\n",
    "    return data[selector]"
   ]
  },
  {
   "cell_type": "code",
   "execution_count": null,
   "metadata": {
    "collapsed": false,
    "deletable": true,
    "editable": true
   },
   "outputs": [],
   "source": [
    "divides(2,4)"
   ]
  },
  {
   "cell_type": "code",
   "execution_count": null,
   "metadata": {
    "collapsed": false,
    "deletable": true,
    "editable": true
   },
   "outputs": [],
   "source": [
    "divides(0,5)"
   ]
  },
  {
   "cell_type": "code",
   "execution_count": null,
   "metadata": {
    "collapsed": false,
    "deletable": true,
    "editable": true
   },
   "outputs": [],
   "source": [
    "get([1,2,3],0)"
   ]
  },
  {
   "cell_type": "code",
   "execution_count": null,
   "metadata": {
    "collapsed": false,
    "deletable": true,
    "editable": true
   },
   "outputs": [],
   "source": [
    "get({'a': 34, 'cat':'9 lives'}, 'dog')"
   ]
  },
  {
   "cell_type": "code",
   "execution_count": null,
   "metadata": {
    "collapsed": false,
    "deletable": true,
    "editable": true
   },
   "outputs": [],
   "source": [
    "get([1,2,3],[2])"
   ]
  },
  {
   "cell_type": "markdown",
   "metadata": {
    "deletable": true,
    "editable": true
   },
   "source": [
    "When an error is encountered the python interpreter *throws an exception*.  Here returns all the way to the top level and reports a stack trace of where the exception occured."
   ]
  },
  {
   "cell_type": "code",
   "execution_count": null,
   "metadata": {
    "collapsed": false,
    "deletable": true,
    "editable": true
   },
   "outputs": [],
   "source": [
    "def divides(x, y):\n",
    "    return y%x == 0\n",
    "def divides24(x):\n",
    "    return divides(x,24)\n",
    "divides24(0)"
   ]
  },
  {
   "cell_type": "code",
   "execution_count": null,
   "metadata": {
    "collapsed": false,
    "deletable": true,
    "editable": true
   },
   "outputs": [],
   "source": [
    "divides24(0)"
   ]
  },
  {
   "cell_type": "code",
   "execution_count": null,
   "metadata": {
    "collapsed": true,
    "deletable": true,
    "editable": true
   },
   "outputs": [],
   "source": [
    "def mapply(f, s):\n",
    "    return [f(x) for x in s]"
   ]
  },
  {
   "cell_type": "code",
   "execution_count": null,
   "metadata": {
    "collapsed": false,
    "deletable": true,
    "editable": true
   },
   "outputs": [],
   "source": [
    "mapply(divides24,[6,4,3,5])"
   ]
  },
  {
   "cell_type": "code",
   "execution_count": null,
   "metadata": {
    "collapsed": false,
    "deletable": true,
    "editable": true
   },
   "outputs": [],
   "source": [
    "mapply(divides24,[6, 4, 0, 3, 5])"
   ]
  },
  {
   "cell_type": "markdown",
   "metadata": {
    "deletable": true,
    "editable": true
   },
   "source": [
    "Many types of exceptions:\n",
    "\n",
    "* `TypeError` -- A function was passed the wrong number/type of argument\n",
    "* `NameError` -- A name wasn't found\n",
    "* `KeyError` -- A key wasn't found in a dictionary\n",
    "* `RuntimeError` -- Catch-all for troubles during interpretation"
   ]
  },
  {
   "cell_type": "markdown",
   "metadata": {
    "deletable": true,
    "editable": true
   },
   "source": [
    "The flow of control stops at the exception and is 'thrown back'. Here the return (and the print) is not executed if an exception occurs on the divide."
   ]
  },
  {
   "cell_type": "code",
   "execution_count": null,
   "metadata": {
    "collapsed": false,
    "deletable": true,
    "editable": true
   },
   "outputs": [],
   "source": [
    "def noisy_divides(x, y):\n",
    "    result = (y % x == 0)\n",
    "    if result:\n",
    "        print(\"{0} divides {1}\".format(x, y))\n",
    "    else:\n",
    "        print(\"{0} does not divide {1}\".format(x, y))\n",
    "    return result"
   ]
  },
  {
   "cell_type": "code",
   "execution_count": null,
   "metadata": {
    "collapsed": false,
    "deletable": true,
    "editable": true
   },
   "outputs": [],
   "source": [
    "noisy_divides(4,24)"
   ]
  },
  {
   "cell_type": "code",
   "execution_count": null,
   "metadata": {
    "collapsed": false,
    "deletable": true,
    "editable": true
   },
   "outputs": [],
   "source": [
    "noisy_divides(0,24)"
   ]
  },
  {
   "cell_type": "code",
   "execution_count": null,
   "metadata": {
    "collapsed": true,
    "deletable": true,
    "editable": true
   },
   "outputs": [],
   "source": [
    "def divides24(x):\n",
    "    return noisy_divides(x,24)"
   ]
  },
  {
   "cell_type": "code",
   "execution_count": null,
   "metadata": {
    "collapsed": false,
    "deletable": true,
    "editable": true
   },
   "outputs": [],
   "source": [
    "divides24(0)"
   ]
  },
  {
   "cell_type": "markdown",
   "metadata": {
    "deletable": true,
    "editable": true
   },
   "source": [
    "## Assertions\n",
    "\n",
    "Your functions should do all they can to avoid errors, they should handle them gracefully when they occur, and the should not trust that they are called with valid arguments -\n",
    "*treat data as dirty till you've washed it*.\n",
    "\n",
    "The most common form of throwing exceptions is with the `assert` statement.  Use it generously. Make sure that you code is working on something reasonable before it tries to do its stuff.  It serves as good documentation of the assumptions that your code makes.  And it avoids lots of very obscure bugs.\n",
    "\n",
    "    asset <assertion expression>, <string for failed assertion>\n",
    "    \n",
    "Assert statements raise an exception of type `AssertionError`"
   ]
  },
  {
   "cell_type": "code",
   "execution_count": null,
   "metadata": {
    "collapsed": false,
    "deletable": true,
    "editable": true
   },
   "outputs": [],
   "source": [
    "def divides(x, y):\n",
    "    assert x != 0, \"Bad argument to divides - denominator should be non-zero\"\n",
    "    assert (type(x) == int and type(y) == int), \"divides only takes integers\"\n",
    "    return y%x == 0"
   ]
  },
  {
   "cell_type": "code",
   "execution_count": null,
   "metadata": {
    "collapsed": false,
    "deletable": true,
    "editable": true,
    "scrolled": true
   },
   "outputs": [],
   "source": [
    "divides(0,3)"
   ]
  },
  {
   "cell_type": "code",
   "execution_count": null,
   "metadata": {
    "collapsed": false,
    "deletable": true,
    "editable": true
   },
   "outputs": [],
   "source": [
    "divides(9, \"lives\")"
   ]
  },
  {
   "cell_type": "code",
   "execution_count": null,
   "metadata": {
    "collapsed": true,
    "deletable": true,
    "editable": true
   },
   "outputs": [],
   "source": [
    "def divides24(x):\n",
    "    return divides(x,24)"
   ]
  },
  {
   "cell_type": "code",
   "execution_count": null,
   "metadata": {
    "collapsed": false,
    "deletable": true,
    "editable": true
   },
   "outputs": [],
   "source": [
    "mapply(divides24,[6,0,4,3,5])"
   ]
  },
  {
   "cell_type": "code",
   "execution_count": null,
   "metadata": {
    "collapsed": false,
    "deletable": true,
    "editable": true
   },
   "outputs": [],
   "source": [
    "__debug__"
   ]
  },
  {
   "cell_type": "markdown",
   "metadata": {},
   "source": [
    "Assert statements are a convenient way to insert debugging assertions into a program:\n",
    "\n",
    "assert_stmt ::=  \"assert\" expression [\",\" expression]\n",
    "\n",
    "The simple form, assert expression, is equivalent to\n",
    "\n",
    "`if __debug__:`\n",
    "\n",
    "    `if not expression: raise AssertionError`\n",
    "    \n",
    "The extended form, assert expression1, expression2, is equivalent to\n",
    "\n",
    "`if __debug__:`\n",
    "\n",
    "    `if not expression1: raise AssertionError(expression2)`\n"
   ]
  },
  {
   "cell_type": "markdown",
   "metadata": {
    "deletable": true,
    "editable": true
   },
   "source": [
    "## Handling errors\n",
    "\n",
    "How can you continue in the presence of an error?  Is there a way to *handle the exception*?\n",
    "\n",
    "The general form of this construct is\n",
    "\n",
    "    try:\n",
    "        <try suite>\n",
    "    except <exception class> as <name>:\n",
    "        <except suite>\n",
    "    ... # continue here if <try suite> succeeds without exception"
   ]
  },
  {
   "cell_type": "code",
   "execution_count": null,
   "metadata": {
    "collapsed": false,
    "deletable": true,
    "editable": true
   },
   "outputs": [],
   "source": [
    "def safe_apply_fun(f,x):\n",
    "    try:\n",
    "        return f(x)   # normal execution, return the result\n",
    "    except:           # error occured, f cannot return.  Transfer control back to here\n",
    "        return \"Invalid\"   # value returned on exception"
   ]
  },
  {
   "cell_type": "code",
   "execution_count": null,
   "metadata": {
    "collapsed": false,
    "deletable": true,
    "editable": true
   },
   "outputs": [],
   "source": [
    "def divides(x, y):\n",
    "    return y%x == 0\n",
    "def divides24(x):\n",
    "    return divides(x,24)\n",
    "safe_apply_fun(divides24,0)"
   ]
  },
  {
   "cell_type": "code",
   "execution_count": null,
   "metadata": {
    "collapsed": true,
    "deletable": true,
    "editable": true
   },
   "outputs": [],
   "source": [
    "def mapply(f, s):\n",
    "    return [safe_apply_fun(f,x) for x in s]"
   ]
  },
  {
   "cell_type": "code",
   "execution_count": null,
   "metadata": {
    "collapsed": false,
    "deletable": true,
    "editable": true
   },
   "outputs": [],
   "source": [
    "mapply(divides24,[6,0,4,3,5])"
   ]
  },
  {
   "cell_type": "code",
   "execution_count": null,
   "metadata": {
    "collapsed": true,
    "deletable": true,
    "editable": true
   },
   "outputs": [],
   "source": [
    "def rapply(f, s):\n",
    "    if len(s) == 0:\n",
    "        return []\n",
    "    else:\n",
    "        return [f(s[0])] + rapply(f, s[1:])"
   ]
  },
  {
   "cell_type": "code",
   "execution_count": null,
   "metadata": {
    "collapsed": false,
    "deletable": true,
    "editable": true
   },
   "outputs": [],
   "source": [
    "rapply(divides24, [6,4,3,5])"
   ]
  },
  {
   "cell_type": "code",
   "execution_count": null,
   "metadata": {
    "collapsed": false,
    "deletable": true,
    "editable": true
   },
   "outputs": [],
   "source": [
    "rapply(divides24, [6,4,3,0,5])"
   ]
  },
  {
   "cell_type": "code",
   "execution_count": null,
   "metadata": {
    "collapsed": true,
    "deletable": true,
    "editable": true
   },
   "outputs": [],
   "source": [
    "def rapply(f, s):\n",
    "    if len(s) == 0:\n",
    "        return []\n",
    "    else:\n",
    "        return [safe_apply_fun(f, s[0])] + rapply(f, s[1:])"
   ]
  },
  {
   "cell_type": "code",
   "execution_count": null,
   "metadata": {
    "collapsed": false,
    "deletable": true,
    "editable": true
   },
   "outputs": [],
   "source": [
    "rapply(divides24, [6,4,3,0,5])"
   ]
  },
  {
   "cell_type": "code",
   "execution_count": null,
   "metadata": {
    "collapsed": true,
    "deletable": true,
    "editable": true
   },
   "outputs": [],
   "source": [
    "def safe_apply_fun(f,x):\n",
    "    try:\n",
    "        return f(x)   # normal execution, return the result\n",
    "    except Exception as e:  # exceptions are objects of class derived from base class Exception\n",
    "        return e   # value returned on exception"
   ]
  },
  {
   "cell_type": "code",
   "execution_count": null,
   "metadata": {
    "collapsed": false,
    "deletable": true,
    "editable": true
   },
   "outputs": [],
   "source": [
    "safe_apply_fun(divides24,0)"
   ]
  },
  {
   "cell_type": "code",
   "execution_count": null,
   "metadata": {
    "collapsed": false,
    "deletable": true,
    "editable": true
   },
   "outputs": [],
   "source": [
    "res = mapply(divides24, [6,4,3,0,5])\n",
    "res"
   ]
  },
  {
   "cell_type": "code",
   "execution_count": null,
   "metadata": {
    "collapsed": false,
    "deletable": true,
    "editable": true
   },
   "outputs": [],
   "source": [
    "res[3]"
   ]
  },
  {
   "cell_type": "code",
   "execution_count": null,
   "metadata": {
    "collapsed": false,
    "deletable": true,
    "editable": true
   },
   "outputs": [],
   "source": [
    "type(res[3])"
   ]
  },
  {
   "cell_type": "markdown",
   "metadata": {
    "deletable": true,
    "editable": true
   },
   "source": [
    "## More on except\n",
    "\n",
    "The general form of this construct is\n",
    "\n",
    "    try:\n",
    "        <try suite>\n",
    "    except <exception class> as <name>:\n",
    "        <except suite>\n",
    "    ... # continue here if <try suite> succeeds without exception\n",
    "\n",
    "Execution rule:\n",
    "The `<try suite>` is executed first.\n",
    "If during the course of executing the `<try suite>`\n",
    "* an exception is raised that is not handled otherwise, and\n",
    "* if the class of the exception inherits from `<exception class>`, then\n",
    "* the `<except suite>` is executed, with `<name>` bound to the exception\n",
    "\n",
    "Note:\n",
    "* There can be more than one `except` clause for a `try`.\n",
    "* They may specify a tuple of exception types.\n",
    "* The first one that catches the exception receives control.\n",
    "* If none do (or if there is no `try ... except`) control is thrown out of the function call.\n",
    "* Each of the function calls on the stack may define exception handlers.  Control is transferred to nearest catching exception suite on the stack."
   ]
  },
  {
   "cell_type": "code",
   "execution_count": null,
   "metadata": {
    "collapsed": true,
    "deletable": true,
    "editable": true
   },
   "outputs": [],
   "source": [
    "def safe_apply_fun(f,x):\n",
    "    try:\n",
    "        return f(x)   # normal execution, return the result\n",
    "    except AssertionError as e:\n",
    "        return \"Failed Assertion\"\n",
    "    except (TypeError, NameError):\n",
    "        return \"Bad function or arg type\""
   ]
  },
  {
   "cell_type": "code",
   "execution_count": null,
   "metadata": {
    "collapsed": false,
    "deletable": true,
    "editable": true
   },
   "outputs": [],
   "source": [
    "safe_apply_fun(divides24, 0)"
   ]
  },
  {
   "cell_type": "code",
   "execution_count": null,
   "metadata": {
    "collapsed": false,
    "deletable": true,
    "editable": true
   },
   "outputs": [],
   "source": [
    "safe_apply_fun(\"foo\", 0)"
   ]
  },
  {
   "cell_type": "code",
   "execution_count": null,
   "metadata": {
    "collapsed": false,
    "deletable": true,
    "editable": true
   },
   "outputs": [],
   "source": [
    "safe_apply_fun(divides25, 0)"
   ]
  },
  {
   "cell_type": "code",
   "execution_count": null,
   "metadata": {
    "collapsed": false,
    "deletable": true,
    "editable": true
   },
   "outputs": [],
   "source": [
    "safe_apply_fun(lambda x: 24 % x == 0, 0)"
   ]
  },
  {
   "cell_type": "markdown",
   "metadata": {
    "deletable": true,
    "editable": true
   },
   "source": [
    "## Raising your own exceptions\n",
    "\n",
    "Exceptions are raised with a `raise` statement:\n",
    "\n",
    "`raise <expression>`\n",
    "\n",
    "`<expression>` must evaluate to a subclass of BaseException or an instance of one\n",
    "\n",
    "Exceptions are constructed like any other object. E.g., `TypeError('Bad argument!')`"
   ]
  },
  {
   "cell_type": "code",
   "execution_count": null,
   "metadata": {
    "collapsed": false,
    "deletable": true,
    "editable": true
   },
   "outputs": [],
   "source": [
    "TypeError(\"ugly type\")"
   ]
  },
  {
   "cell_type": "code",
   "execution_count": null,
   "metadata": {
    "collapsed": true,
    "deletable": true,
    "editable": true
   },
   "outputs": [],
   "source": [
    "def divides(x, y):\n",
    "    assert x != 0, \"Bad argument to divides - denominator should be non-zero\"\n",
    "    if (type(x) != int or type(y) != int):\n",
    "        raise TypeError(\"divides only takes integers\")\n",
    "    return y%x == 0"
   ]
  },
  {
   "cell_type": "code",
   "execution_count": null,
   "metadata": {
    "collapsed": false,
    "deletable": true,
    "editable": true
   },
   "outputs": [],
   "source": [
    "divides(\"cat\",9)"
   ]
  },
  {
   "cell_type": "code",
   "execution_count": null,
   "metadata": {
    "collapsed": false,
    "deletable": true,
    "editable": true
   },
   "outputs": [],
   "source": [
    "safe_apply_fun(divides24, \"cat\")"
   ]
  },
  {
   "cell_type": "markdown",
   "metadata": {
    "deletable": true,
    "editable": true
   },
   "source": [
    "## Exceptions are classes\n",
    "\n",
    "They have constructors, selectors, methods, etc."
   ]
  },
  {
   "cell_type": "code",
   "execution_count": null,
   "metadata": {
    "collapsed": false,
    "deletable": true,
    "editable": true
   },
   "outputs": [],
   "source": [
    "# Exceptions are classes too\n",
    "class NoiseyException(Exception):\n",
    "    def __init__(self, stuff):\n",
    "        print(\"Bad stuff happenned\", stuff)"
   ]
  },
  {
   "cell_type": "code",
   "execution_count": null,
   "metadata": {
    "collapsed": true,
    "deletable": true,
    "editable": true
   },
   "outputs": [],
   "source": [
    "def nostop(fun, x):\n",
    "    try: \n",
    "        try:\n",
    "            return fun(x)\n",
    "        except:\n",
    "            raise NoiseyException((fun, x))\n",
    "    except:\n",
    "        return None"
   ]
  },
  {
   "cell_type": "code",
   "execution_count": null,
   "metadata": {
    "collapsed": false,
    "deletable": true,
    "editable": true
   },
   "outputs": [],
   "source": [
    "def reciprocal(x):\n",
    "    return 1/x\n",
    "nostop(reciprocal, 0)"
   ]
  },
  {
   "cell_type": "code",
   "execution_count": null,
   "metadata": {
    "collapsed": false,
    "deletable": true,
    "editable": true
   },
   "outputs": [],
   "source": [
    "def zapper(fun, seq, selectors):\n",
    "    return [nostop(fun, seq[x]) for x in selectors]"
   ]
  },
  {
   "cell_type": "code",
   "execution_count": null,
   "metadata": {
    "collapsed": false,
    "deletable": true,
    "editable": true
   },
   "outputs": [],
   "source": [
    "zapper(reciprocal, [1, 0, 2, 0], [0, 1, 2, 3])"
   ]
  },
  {
   "cell_type": "code",
   "execution_count": null,
   "metadata": {
    "collapsed": false,
    "deletable": true,
    "editable": true
   },
   "outputs": [],
   "source": [
    "zapper(reciprocal, [1, 0, 2, 0], [0, 1, 2, 3, 4])"
   ]
  },
  {
   "cell_type": "code",
   "execution_count": null,
   "metadata": {
    "collapsed": true,
    "deletable": true,
    "editable": true
   },
   "outputs": [],
   "source": [
    "def zing(seq, i):\n",
    "    try: \n",
    "        try:\n",
    "            return seq[i]\n",
    "        except:\n",
    "            raise NoiseyException((\"bad sequence index\", i))\n",
    "    except:\n",
    "        return None\n",
    "\n",
    "def zapper(fun, seq, selectors):\n",
    "    return [nostop(fun, zing(seq, x)) for x in selectors]"
   ]
  },
  {
   "cell_type": "code",
   "execution_count": null,
   "metadata": {
    "collapsed": false,
    "deletable": true,
    "editable": true
   },
   "outputs": [],
   "source": [
    "zapper(reciprocal, [1, 0, 2, 0], [0, 1, 2, 3, 4])"
   ]
  },
  {
   "cell_type": "code",
   "execution_count": null,
   "metadata": {
    "collapsed": false,
    "deletable": true,
    "editable": true
   },
   "outputs": [],
   "source": [
    "class NoiseyException(Exception):\n",
    "    exceptions = []\n",
    "    def __init__(self, stuff):\n",
    "        print(\"Bad stuff happenned\", stuff)\n",
    "        NoiseyException.exceptions.append(stuff)"
   ]
  },
  {
   "cell_type": "code",
   "execution_count": null,
   "metadata": {
    "collapsed": false,
    "deletable": true,
    "editable": true
   },
   "outputs": [],
   "source": [
    "zapper(reciprocal, [1, 0, 2, 0], [0, 1, 2, 3, 4])"
   ]
  },
  {
   "cell_type": "code",
   "execution_count": null,
   "metadata": {
    "collapsed": false,
    "deletable": true,
    "editable": true
   },
   "outputs": [],
   "source": [
    "NoiseyException.exceptions"
   ]
  },
  {
   "cell_type": "code",
   "execution_count": null,
   "metadata": {
    "collapsed": true,
    "deletable": true,
    "editable": true
   },
   "outputs": [],
   "source": []
  }
 ],
 "metadata": {
  "anaconda-cloud": {},
  "kernelspec": {
   "display_name": "Python [default]",
   "language": "python",
   "name": "python3"
  },
  "language_info": {
   "codemirror_mode": {
    "name": "ipython",
    "version": 3
   },
   "file_extension": ".py",
   "mimetype": "text/x-python",
   "name": "python",
   "nbconvert_exporter": "python",
   "pygments_lexer": "ipython3",
   "version": "3.5.3"
  }
 },
 "nbformat": 4,
 "nbformat_minor": 0
}
