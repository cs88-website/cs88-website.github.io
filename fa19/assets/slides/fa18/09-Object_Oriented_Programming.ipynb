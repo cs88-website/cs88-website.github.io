{
 "cells": [
  {
   "cell_type": "markdown",
   "metadata": {
    "deletable": true,
    "editable": true
   },
   "source": [
    "# Object Oriented Programming with Classes\n",
    "\n",
    "Classes allow us to capture the methodology of Abstract Data Types more formally.  \n",
    "\n",
    "* `class` defines a class of objects in terms of the values they contain (instance attributes) and their behavior (methods)\n",
    "* methods are invoked on the object\n",
    "* the class defines a set of visible methods and attributes\n",
    "* the ADT methodology of constructors, selectors, and operators should still be follow for clean, composable, design\n",
    "\n",
    "Let's revisit our example"
   ]
  },
  {
   "cell_type": "code",
   "execution_count": null,
   "metadata": {
    "collapsed": true,
    "deletable": true,
    "editable": true
   },
   "outputs": [],
   "source": [
    "class Account:\n",
    "    \"\"\"Create named accounts with a balance that is \n",
    "    - increased by account_deposit\n",
    "    - decreased by account_withdrawl\n",
    "    \"\"\"\n",
    "    # Constructor\n",
    "    \n",
    "    def init(self, name, initial_deposit): \n",
    "        # Initialize the instance attributes, i.e., variables\n",
    "        self.name = name \n",
    "        self.balance = initial_deposit \n",
    "        \n",
    "    # Selectors\n",
    "    \n",
    "    def account_name(self):\n",
    "        return self.name\n",
    "\n",
    "    def account_balance(self):\n",
    "        return self.balance\n",
    "    \n",
    "    # Operations\n",
    "    \n",
    "    def deposit(self, amount):\n",
    "        self.balance += amount\n",
    "        return self.balance\n",
    "    \n",
    "    def withdraw(self, amount):\n",
    "        self.balance -= amount\n",
    "        return self.balance"
   ]
  },
  {
   "cell_type": "markdown",
   "metadata": {
    "deletable": true,
    "editable": true
   },
   "source": [
    "## Class is the constructor of its objects "
   ]
  },
  {
   "cell_type": "code",
   "execution_count": null,
   "metadata": {
    "collapsed": false,
    "deletable": true,
    "editable": true
   },
   "outputs": [],
   "source": [
    "my_acct = Account()"
   ]
  },
  {
   "cell_type": "markdown",
   "metadata": {
    "deletable": true,
    "editable": true
   },
   "source": [
    "## Functions in the class are *methods* on the object\n",
    "\n",
    "* Referenced as `object.method`\n",
    "* The class methods all take `self` as the first argument. Notice, it does not appear as an arg in calling the method."
   ]
  },
  {
   "cell_type": "code",
   "execution_count": null,
   "metadata": {
    "collapsed": true,
    "deletable": true,
    "editable": true
   },
   "outputs": [],
   "source": [
    "my_acct.init(\"David Culler\", 100)"
   ]
  },
  {
   "cell_type": "code",
   "execution_count": null,
   "metadata": {
    "collapsed": false,
    "deletable": true,
    "editable": true
   },
   "outputs": [],
   "source": [
    "my_acct.account_name()"
   ]
  },
  {
   "cell_type": "code",
   "execution_count": null,
   "metadata": {
    "collapsed": false,
    "deletable": true,
    "editable": true
   },
   "outputs": [],
   "source": [
    "my_acct.withdraw(17)"
   ]
  },
  {
   "cell_type": "code",
   "execution_count": null,
   "metadata": {
    "collapsed": false,
    "deletable": true,
    "editable": true
   },
   "outputs": [],
   "source": [
    "my_acct.account_balance() # What happens if you reevaluate the previous"
   ]
  },
  {
   "cell_type": "markdown",
   "metadata": {
    "deletable": true,
    "editable": true
   },
   "source": [
    "### Which methods are functional?  Which mutate?"
   ]
  },
  {
   "cell_type": "code",
   "execution_count": null,
   "metadata": {
    "collapsed": false,
    "deletable": true,
    "editable": true
   },
   "outputs": [],
   "source": [
    "type(my_acct)"
   ]
  },
  {
   "cell_type": "code",
   "execution_count": null,
   "metadata": {
    "collapsed": false,
    "deletable": true,
    "editable": true
   },
   "outputs": [],
   "source": [
    "my_acct"
   ]
  },
  {
   "cell_type": "code",
   "execution_count": null,
   "metadata": {
    "collapsed": false,
    "deletable": true,
    "editable": true
   },
   "outputs": [],
   "source": [
    "type(my_acct) == Account"
   ]
  },
  {
   "cell_type": "code",
   "execution_count": null,
   "metadata": {
    "collapsed": false,
    "deletable": true,
    "editable": true
   },
   "outputs": [],
   "source": [
    "isinstance(my_acct, Account)"
   ]
  },
  {
   "cell_type": "code",
   "execution_count": null,
   "metadata": {
    "collapsed": false,
    "deletable": true,
    "editable": true
   },
   "outputs": [],
   "source": [
    "help(Account)"
   ]
  },
  {
   "cell_type": "code",
   "execution_count": null,
   "metadata": {
    "collapsed": false,
    "deletable": true,
    "editable": true
   },
   "outputs": [],
   "source": [
    "# yech - how do we improve this\n",
    "my_acct"
   ]
  },
  {
   "cell_type": "markdown",
   "metadata": {
    "deletable": true,
    "editable": true
   },
   "source": [
    "# Special methods \"__\"\n",
    "\n",
    "It it natural to have the class constructor also initialize the object that is constructed.  \n",
    "\n",
    "Python allows these to be put together by convention.  The class constructor calls the `__init__` methods on the object being constructed, passing along the arguments.\n",
    "\n",
    "Similar things happen when the interpreter tries to display a representaton of the object value (`__repr__`) or then `print` tries to produce a text representation (`__str__`).\n",
    "\n",
    "Let's rebuild a better version of the Account class"
   ]
  },
  {
   "cell_type": "code",
   "execution_count": null,
   "metadata": {
    "collapsed": false,
    "deletable": true,
    "editable": true
   },
   "outputs": [],
   "source": [
    "class Account:\n",
    "    # Constructor\n",
    "    def __init__(self, name, initial_deposit): \n",
    "        # Initialize the instance attributes\n",
    "        self.name = name \n",
    "        self.balance = initial_deposit\n",
    "        # Return None\n",
    "        \n",
    "    # Selectors\n",
    "    def account_name(self):\n",
    "        return self.name\n",
    "\n",
    "    def account_balance(self):\n",
    "        return self.balance\n",
    "    \n",
    "    # Operations\n",
    "    def deposit(self, amount):\n",
    "        self.balance += amount\n",
    "        return self.balance\n",
    "    \n",
    "    def withdraw(self, amount):\n",
    "        self.balance -= amount\n",
    "        return self.balance\n",
    "    \n",
    "    # Display representation\n",
    "    def __repr__(self):\n",
    "        return '<Acct: ' + str(self.account_name()) + '>'\n",
    "    # Print representation\n",
    "    def __str__(self):\n",
    "        return '<Account: ' + str(self.account_name()) + '>'\n"
   ]
  },
  {
   "cell_type": "code",
   "execution_count": null,
   "metadata": {
    "collapsed": false,
    "deletable": true,
    "editable": true
   },
   "outputs": [],
   "source": [
    "my_acct = Account(\"David E. Culler\", 37)"
   ]
  },
  {
   "cell_type": "code",
   "execution_count": null,
   "metadata": {
    "collapsed": false,
    "deletable": true,
    "editable": true
   },
   "outputs": [],
   "source": [
    "my_acct"
   ]
  },
  {
   "cell_type": "code",
   "execution_count": null,
   "metadata": {
    "collapsed": false,
    "deletable": true,
    "editable": true
   },
   "outputs": [],
   "source": [
    "print(my_acct)"
   ]
  },
  {
   "cell_type": "code",
   "execution_count": null,
   "metadata": {
    "collapsed": false,
    "deletable": true,
    "editable": true
   },
   "outputs": [],
   "source": [
    "my_acct.account_balance()"
   ]
  },
  {
   "cell_type": "markdown",
   "metadata": {
    "deletable": true,
    "editable": true
   },
   "source": [
    "# Instance attributes"
   ]
  },
  {
   "cell_type": "markdown",
   "metadata": {
    "deletable": true,
    "editable": true
   },
   "source": [
    "Each object instance contains a set of attributes, i.e., variables, for that particular instance.  These are typically set by the constructors and accessed by the selectors.  Good practice is to only use the selector methods, but python allows the instance objects to accessed outside the class, in effect, the obvious selectors."
   ]
  },
  {
   "cell_type": "code",
   "execution_count": null,
   "metadata": {
    "collapsed": false,
    "deletable": true,
    "editable": true
   },
   "outputs": [],
   "source": [
    "my_acct.name"
   ]
  },
  {
   "cell_type": "code",
   "execution_count": null,
   "metadata": {
    "collapsed": false,
    "deletable": true,
    "editable": true
   },
   "outputs": [],
   "source": [
    "my_acct.account_name()"
   ]
  },
  {
   "cell_type": "code",
   "execution_count": null,
   "metadata": {
    "collapsed": false,
    "deletable": true,
    "editable": true
   },
   "outputs": [],
   "source": [
    "your_acct = Account(\"Oski Bear\", 1000)\n",
    "your_acct"
   ]
  },
  {
   "cell_type": "code",
   "execution_count": null,
   "metadata": {
    "collapsed": false,
    "deletable": true,
    "editable": true
   },
   "outputs": [],
   "source": [
    "your_acct.name"
   ]
  },
  {
   "cell_type": "code",
   "execution_count": null,
   "metadata": {
    "collapsed": false,
    "deletable": true,
    "editable": true
   },
   "outputs": [],
   "source": [
    "your_acct.account_balance()"
   ]
  },
  {
   "cell_type": "markdown",
   "metadata": {
    "deletable": true,
    "editable": true
   },
   "source": [
    "# Private instance attributes\n",
    "\n",
    "By convention, the instance attributes are \"hidden\" by preceding them with `_`.  You are never supposed to use the `_` attributes.  You may peak for debugging, but it is bad form to access them.  Use the selector methods."
   ]
  },
  {
   "cell_type": "code",
   "execution_count": null,
   "metadata": {
    "collapsed": true,
    "deletable": true,
    "editable": true
   },
   "outputs": [],
   "source": [
    "class Account:\n",
    "    \n",
    "    # Constructor\n",
    "    def __init__(self, name, initial_deposit): \n",
    "        # Initialize the instance attributes\n",
    "        self._name = name \n",
    "        self._balance = initial_deposit\n",
    "        # Return None\n",
    "        \n",
    "    # Selectors\n",
    "    def account_name(self):\n",
    "        return self._name\n",
    "\n",
    "    def account_balance(self):\n",
    "        return self._balance\n",
    "    \n",
    "    # Operations\n",
    "    def deposit(self, amount):\n",
    "        self._balance += amount\n",
    "        return self._balance\n",
    "    \n",
    "    def withdraw(self, amount):\n",
    "        self._balance -= amount\n",
    "        return self._balance\n",
    "    \n",
    "    # Display representation\n",
    "    def __repr__(self):\n",
    "        return '<Account: ' + str(self.account_name()) + '>'\n",
    "    # Print representation\n",
    "    def __str__(self):\n",
    "        return '<Account: ' + str(self.account_name()) + '>'"
   ]
  },
  {
   "cell_type": "code",
   "execution_count": null,
   "metadata": {
    "collapsed": false,
    "deletable": true,
    "editable": true
   },
   "outputs": [],
   "source": [
    "my_acct = Account(\"David E. Culler\", 39)\n",
    "my_acct"
   ]
  },
  {
   "cell_type": "code",
   "execution_count": null,
   "metadata": {
    "collapsed": false,
    "deletable": true,
    "editable": true
   },
   "outputs": [],
   "source": [
    "my_acct.name"
   ]
  },
  {
   "cell_type": "code",
   "execution_count": null,
   "metadata": {
    "collapsed": false,
    "deletable": true,
    "editable": true
   },
   "outputs": [],
   "source": [
    "my_acct.account_name()"
   ]
  },
  {
   "cell_type": "markdown",
   "metadata": {
    "deletable": true,
    "editable": true
   },
   "source": [
    "# Class attributes\n",
    "\n",
    "* Each object that is an instance of the class contains its attributes (values).\n",
    "* Sometimes you need attributes for the class itself.  \n",
    "* You can access these through the class or through its instances. You should never never set them through the instances. In fact, you should never access or set them outside the class.  They really should be private to the class."
   ]
  },
  {
   "cell_type": "code",
   "execution_count": null,
   "metadata": {
    "collapsed": false,
    "deletable": true,
    "editable": true
   },
   "outputs": [],
   "source": [
    "class Account:\n",
    "    \"\"\"Create named accounts with a balance that is \n",
    "    - increased by account_deposit\n",
    "    - decreased by account_withdrawl\n",
    "    \"\"\"\n",
    "        \n",
    "    # Class astributes outside and class defs\n",
    "    _account_number_seed = 1000\n",
    "    \n",
    "    # Constructor\n",
    "    \n",
    "    def __init__(self, name, initial_deposit): \n",
    "        # Initialize the instance attributes\n",
    "        self._name = name \n",
    "        self._acct_no = Account._account_number_seed     \n",
    "        Account._account_number_seed += 1\n",
    "        self._balance = initial_deposit\n",
    "        # Return None\n",
    "        \n",
    "    # Selectors\n",
    "    \n",
    "    def account_name(self):\n",
    "        return self._name\n",
    "\n",
    "    def account_balance(self):\n",
    "        return self._balance\n",
    "    \n",
    "    def account_number(self):\n",
    "        return self._acct_no\n",
    "    \n",
    "    # Operations\n",
    "    \n",
    "    def deposit(self, amount):\n",
    "        self._balance += amount\n",
    "        return self._balance\n",
    "    \n",
    "    def withdraw(self, amount):\n",
    "        self._balance -= amount\n",
    "        return self._balance\n",
    "    \n",
    "    # Display representation\n",
    "    def __repr__(self):\n",
    "        return '<Account: ' + str(self.account_name()) + '-' + str(self.account_number()) + '>'\n",
    "    # Print representation\n",
    "    def __str__(self):\n",
    "        return '<Account: ' + str(self.account_name()) + '-' + str(self.account_number()) + '>'"
   ]
  },
  {
   "cell_type": "code",
   "execution_count": null,
   "metadata": {
    "collapsed": false,
    "deletable": true,
    "editable": true
   },
   "outputs": [],
   "source": [
    "my_acct = Account(\"David E. Culler\", 42)\n",
    "my_acct"
   ]
  },
  {
   "cell_type": "code",
   "execution_count": null,
   "metadata": {
    "collapsed": false,
    "deletable": true,
    "editable": true
   },
   "outputs": [],
   "source": [
    "your_acct = Account(\"Oski Bear\", 1002)\n",
    "your_acct"
   ]
  },
  {
   "cell_type": "code",
   "execution_count": null,
   "metadata": {
    "collapsed": false,
    "deletable": true,
    "editable": true
   },
   "outputs": [],
   "source": [
    "Account._account_number_seed"
   ]
  },
  {
   "cell_type": "code",
   "execution_count": null,
   "metadata": {
    "collapsed": false,
    "deletable": true,
    "editable": true
   },
   "outputs": [],
   "source": [
    "my_acct._account_number_seed"
   ]
  },
  {
   "cell_type": "code",
   "execution_count": null,
   "metadata": {
    "collapsed": false,
    "deletable": true,
    "editable": true
   },
   "outputs": [],
   "source": [
    "my_acct._acct_no"
   ]
  },
  {
   "cell_type": "code",
   "execution_count": null,
   "metadata": {
    "collapsed": false,
    "deletable": true,
    "editable": true
   },
   "outputs": [],
   "source": [
    "my_acct.account_number()"
   ]
  },
  {
   "cell_type": "markdown",
   "metadata": {
    "deletable": true,
    "editable": true
   },
   "source": [
    "# Inheritance\n",
    "\n",
    "More specialized classes are created by inheriting from a basic class and defining additional attributes, refining methods, etc."
   ]
  },
  {
   "cell_type": "code",
   "execution_count": null,
   "metadata": {
    "collapsed": false,
    "deletable": true,
    "editable": true
   },
   "outputs": [],
   "source": [
    "class CheckingAccount(Account):\n",
    "    \n",
    "    def __init__(self, name, initial_deposit):\n",
    "        # Use superclass initializer\n",
    "        Account.__init__(self, name, initial_deposit)\n",
    "        # Additional initialization\n",
    "        self._type = \"Checking\"\n",
    "    \n",
    "    def account_type(self):\n",
    "        return self._type\n",
    "    \n",
    "    # Display representation\n",
    "    def __repr__(self):\n",
    "        return '<' + str(self.account_type()) + 'Account: ' + str(self.account_name()) + '-' + str(self.account_number()) + '>'\n",
    "    # Print representation\n",
    "    def __str__(self):\n",
    "        return '<' + str(self.account_type()) + 'Account: ' + str(self.account_name()) + '-' + str(self.account_number()) + '>'"
   ]
  },
  {
   "cell_type": "code",
   "execution_count": null,
   "metadata": {
    "collapsed": false,
    "deletable": true,
    "editable": true
   },
   "outputs": [],
   "source": [
    "my_chkacct = CheckingAccount(\"David E. Culler\", 43)\n",
    "my_chkacct"
   ]
  },
  {
   "cell_type": "code",
   "execution_count": null,
   "metadata": {
    "collapsed": false,
    "deletable": true,
    "editable": true
   },
   "outputs": [],
   "source": [
    "my_chkacct._type"
   ]
  },
  {
   "cell_type": "code",
   "execution_count": null,
   "metadata": {
    "collapsed": false,
    "deletable": true,
    "editable": true
   },
   "outputs": [],
   "source": [
    "my_acct._type"
   ]
  },
  {
   "cell_type": "code",
   "execution_count": null,
   "metadata": {
    "collapsed": false,
    "deletable": true,
    "editable": true
   },
   "outputs": [],
   "source": [
    "my_chkacct.account_type()"
   ]
  },
  {
   "cell_type": "code",
   "execution_count": null,
   "metadata": {
    "collapsed": true,
    "deletable": true,
    "editable": true
   },
   "outputs": [],
   "source": [
    "class SavingsAccount(Account):\n",
    "    \n",
    "    interest_rate = 0.02\n",
    "    \n",
    "    def __init__(self, name, initial_deposit):\n",
    "        # Use superclass initializer\n",
    "        Account.__init__(self, name, initial_deposit)\n",
    "        # Additional initialization\n",
    "        self._type = \"Savings\"\n",
    "    \n",
    "    def account_type(self):\n",
    "        return self._type\n",
    "    \n",
    "    def acrue_interest(self):\n",
    "        self._balance = self._balance * (1 + SavingsAccount.interest_rate)\n",
    "    \n",
    "    # Display representation\n",
    "    def __repr__(self):\n",
    "        return '<' + str(self.account_type()) + 'Account: ' + str(self.account_name()) + '-' + str(self.account_number()) + '>'\n",
    "    # Print representation\n",
    "    def __str__(self):\n",
    "        return '<' + str(self.account_type()) + 'Account: ' + str(self.account_name()) + '-' + str(self.account_number()) + '>'"
   ]
  },
  {
   "cell_type": "code",
   "execution_count": null,
   "metadata": {
    "collapsed": false,
    "deletable": true,
    "editable": true
   },
   "outputs": [],
   "source": [
    "my_savacct = SavingsAccount(\"David Too\", 100)\n",
    "my_savacct"
   ]
  },
  {
   "cell_type": "code",
   "execution_count": null,
   "metadata": {
    "collapsed": false,
    "deletable": true,
    "editable": true
   },
   "outputs": [],
   "source": [
    "my_savacct.account_balance()"
   ]
  },
  {
   "cell_type": "code",
   "execution_count": null,
   "metadata": {
    "collapsed": false,
    "deletable": true,
    "editable": true
   },
   "outputs": [],
   "source": [
    "my_savacct.acrue_interest()\n",
    "my_savacct.account_balance()"
   ]
  },
  {
   "cell_type": "code",
   "execution_count": null,
   "metadata": {
    "collapsed": false,
    "deletable": true,
    "editable": true
   },
   "outputs": [],
   "source": [
    "isinstance(my_savacct, SavingsAccount)"
   ]
  },
  {
   "cell_type": "code",
   "execution_count": null,
   "metadata": {
    "collapsed": false,
    "deletable": true,
    "editable": true
   },
   "outputs": [],
   "source": [
    "isinstance(my_savacct, Account)"
   ]
  },
  {
   "cell_type": "code",
   "execution_count": null,
   "metadata": {
    "collapsed": false,
    "deletable": true,
    "editable": true
   },
   "outputs": [],
   "source": [
    "isinstance(my_savacct, CheckingAccount)"
   ]
  },
  {
   "cell_type": "markdown",
   "metadata": {
    "deletable": true,
    "editable": true
   },
   "source": [
    "# Classes using classes"
   ]
  },
  {
   "cell_type": "code",
   "execution_count": null,
   "metadata": {
    "collapsed": true,
    "deletable": true,
    "editable": true
   },
   "outputs": [],
   "source": [
    "class Bank:   \n",
    "    _accounts = []\n",
    "    \n",
    "    def add_account(self, name, account_type, initial_deposit):\n",
    "        if account_type == 'Savings':\n",
    "            new_account = SavingsAccount(name, initial_deposit)\n",
    "        elif account_type ==  'Checking':\n",
    "            new_account = CheckingAccount(name, initial_deposit)\n",
    "        else:\n",
    "            assert True, \"Bad Account type: \" + account_type\n",
    "        assert initial_deposit > 0, \"Bad deposit\"\n",
    "        \n",
    "        Bank._accounts.append(new_account)\n",
    "        return new_account\n",
    "    \n",
    "    def accounts(self):\n",
    "        return self._accounts[:]\n",
    "\n",
    "    def show_accounts(self):            \n",
    "        for acct in self.accounts():\n",
    "            print(acct.account_number(), acct.account_type(), \n",
    "                  acct.account_name(), acct.account_balance())\n",
    "            \n",
    "    def total_assets(self):\n",
    "        return sum([acct.account_balance() for acct in self.accounts()])"
   ]
  },
  {
   "cell_type": "code",
   "execution_count": null,
   "metadata": {
    "collapsed": true,
    "deletable": true,
    "editable": true
   },
   "outputs": [],
   "source": [
    "bank = Bank()"
   ]
  },
  {
   "cell_type": "code",
   "execution_count": null,
   "metadata": {
    "collapsed": false,
    "deletable": true,
    "editable": true
   },
   "outputs": [],
   "source": [
    "spock_acct = bank.add_account('Spock', 'Savings', 1010)\n",
    "kirk_acct = bank.add_account('Captain Kirk', 'Checking', 2020)\n",
    "scotty_acct = bank.add_account('Engineer Scott', 'Savings', 111111)"
   ]
  },
  {
   "cell_type": "code",
   "execution_count": null,
   "metadata": {
    "collapsed": false,
    "deletable": true,
    "editable": true
   },
   "outputs": [],
   "source": [
    "bank.show_accounts()"
   ]
  },
  {
   "cell_type": "code",
   "execution_count": null,
   "metadata": {
    "collapsed": false,
    "deletable": true,
    "editable": true
   },
   "outputs": [],
   "source": [
    "bank.accounts()"
   ]
  },
  {
   "cell_type": "code",
   "execution_count": null,
   "metadata": {
    "collapsed": false,
    "deletable": true,
    "editable": true
   },
   "outputs": [],
   "source": [
    "bank.total_assets()"
   ]
  },
  {
   "cell_type": "code",
   "execution_count": null,
   "metadata": {
    "collapsed": true,
    "deletable": true,
    "editable": true
   },
   "outputs": [],
   "source": []
  }
 ],
 "metadata": {
  "anaconda-cloud": {},
  "kernelspec": {
   "display_name": "Python [conda env:cs88]",
   "language": "python",
   "name": "conda-env-cs88-py"
  },
  "language_info": {
   "codemirror_mode": {
    "name": "ipython",
    "version": 3
   },
   "file_extension": ".py",
   "mimetype": "text/x-python",
   "name": "python",
   "nbconvert_exporter": "python",
   "pygments_lexer": "ipython3",
   "version": "3.5.2"
  }
 },
 "nbformat": 4,
 "nbformat_minor": 2
}
