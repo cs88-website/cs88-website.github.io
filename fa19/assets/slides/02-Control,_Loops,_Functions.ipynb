{
 "cells": [
  {
   "cell_type": "markdown",
   "metadata": {},
   "source": [
    "# Lecture 3 Notebook Companion\n",
    "\n",
    "This notebook contains the series of examples presented in lecture.  You should become versatile at working either with notebooks or with .py files. \n",
    "* Notebooks are especially well suited for the top level digital narrative of typical data analytics, which starts with raw data and a question and works step-by-step to an answer.  \n",
    "* Notebooks are also useful as you start out developing and testing functions are part of a large piece of code.\n",
    "* There comes a point where you are developing more sophisticated code that is independent of any particular bit of analysis.  You may still use the fruits of that labor by import.\n",
    "* In CS88 you will learn to develop more sizable pieces of code, so you'll go back and forth."
   ]
  },
  {
   "cell_type": "code",
   "execution_count": 1,
   "metadata": {
    "collapsed": true,
    "deletable": true,
    "editable": true
   },
   "outputs": [],
   "source": [
    "# This is a little piece of magic to help you test functions against\n",
    "# their doctest as you go.  \n",
    "import doctest\n",
    "def test(fun, verbose=False):\n",
    "    doctest.run_docstring_examples(fun, None, name=fun.__name__, verbose=verbose)"
   ]
  },
  {
   "cell_type": "markdown",
   "metadata": {
    "deletable": true,
    "editable": true
   },
   "source": [
    "## Remember: write the test before you write the code!"
   ]
  },
  {
   "cell_type": "code",
   "execution_count": 2,
   "metadata": {
    "collapsed": true,
    "deletable": true,
    "editable": true
   },
   "outputs": [],
   "source": [
    "def divides(number, divider):\n",
    "    \"\"\" Return whether divider divides number evenly.                       \n",
    "    >>> divides(3,2)                                                        \n",
    "    False\n",
    "    >>> divides(4,2)                                                        \n",
    "    True\n",
    "    \"\"\"\n",
    "    return (number % divider) == 0"
   ]
  },
  {
   "cell_type": "code",
   "execution_count": 3,
   "metadata": {
    "collapsed": false,
    "deletable": true,
    "editable": true
   },
   "outputs": [
    {
     "name": "stdout",
     "output_type": "stream",
     "text": [
      "Finding tests in divides\n",
      "Trying:\n",
      "    divides(3,2)                                                        \n",
      "Expecting:\n",
      "    False\n",
      "ok\n",
      "Trying:\n",
      "    divides(4,2)                                                        \n",
      "Expecting:\n",
      "    True\n",
      "ok\n"
     ]
    }
   ],
   "source": [
    "test(divides, verbose=True)"
   ]
  },
  {
   "cell_type": "markdown",
   "metadata": {},
   "source": [
    "## Function definition"
   ]
  },
  {
   "cell_type": "code",
   "execution_count": 4,
   "metadata": {
    "collapsed": true,
    "deletable": true,
    "editable": true
   },
   "outputs": [],
   "source": [
    "def dividers(n):\n",
    "    \"\"\"Return list of whether numbers greater than 1 that divide n.         \n",
    "                                                                                \n",
    "    >>> dividers(6)                                                         \n",
    "    [True, True]\n",
    "    >>> dividers(9)                                                         \n",
    "    [False, True, False]\n",
    "    \"\"\"\n",
    "    return [divides(n,i) for i in range(2,(n//2)+1) ]"
   ]
  },
  {
   "cell_type": "code",
   "execution_count": 5,
   "metadata": {
    "collapsed": true,
    "deletable": true,
    "editable": true
   },
   "outputs": [],
   "source": [
    "test(dividers)"
   ]
  },
  {
   "cell_type": "markdown",
   "metadata": {},
   "source": [
    "## For loop iteration"
   ]
  },
  {
   "cell_type": "code",
   "execution_count": 6,
   "metadata": {
    "collapsed": true,
    "deletable": true,
    "editable": true
   },
   "outputs": [],
   "source": [
    "def cum_OR(lst):\n",
    "    \"\"\"Return cumulative OR of entries in lst.                              \n",
    "    >>> cum_OR([True, False])                                               \n",
    "    True\n",
    "    >>> cum_OR([False, False])                                              \n",
    "    False\n",
    "    \"\"\"\n",
    "    co = False\n",
    "    for item in lst:\n",
    "                co = co or item\n",
    "    return co"
   ]
  },
  {
   "cell_type": "code",
   "execution_count": 7,
   "metadata": {
    "collapsed": false,
    "deletable": true,
    "editable": true
   },
   "outputs": [],
   "source": [
    "test(cum_OR)"
   ]
  },
  {
   "cell_type": "code",
   "execution_count": 8,
   "metadata": {
    "collapsed": true,
    "deletable": true,
    "editable": true
   },
   "outputs": [],
   "source": [
    "def prime(n):\n",
    "    \"\"\"Return whether n is a prime number.                                  \n",
    "                                                                             \n",
    "    >>> prime(2)                                                            \n",
    "    True\n",
    "    >>> prime(3)                                                            \n",
    "    True\n",
    "    >>> prime(4)\n",
    "    False\n",
    "    \"\"\"\n",
    "    return not cum_OR(dividers(n))"
   ]
  },
  {
   "cell_type": "code",
   "execution_count": 9,
   "metadata": {
    "collapsed": false,
    "deletable": true,
    "editable": true
   },
   "outputs": [],
   "source": [
    "test(prime)"
   ]
  },
  {
   "cell_type": "code",
   "execution_count": 10,
   "metadata": {
    "collapsed": false,
    "deletable": true,
    "editable": true
   },
   "outputs": [
    {
     "data": {
      "text/plain": [
       "True"
      ]
     },
     "execution_count": 10,
     "metadata": {},
     "output_type": "execute_result"
    }
   ],
   "source": [
    "# But is our test really good enough?\n",
    "prime(1)"
   ]
  },
  {
   "cell_type": "code",
   "execution_count": 11,
   "metadata": {
    "collapsed": false,
    "deletable": true,
    "editable": true
   },
   "outputs": [
    {
     "data": {
      "text/plain": [
       "True"
      ]
     },
     "execution_count": 11,
     "metadata": {},
     "output_type": "execute_result"
    }
   ],
   "source": [
    "prime(-2)"
   ]
  },
  {
   "cell_type": "code",
   "execution_count": 12,
   "metadata": {
    "collapsed": true,
    "deletable": true,
    "editable": true
   },
   "outputs": [],
   "source": [
    "def prime(n):\n",
    "    \"\"\"Return whether n is a prime number.                                  \n",
    "                                                                             \n",
    "    >>> prime(2)                                                            \n",
    "    True\n",
    "    >>> prime(3)                                                            \n",
    "    True\n",
    "    >>> prime(4)\n",
    "    False\n",
    "    >>> prime(1)                                                            \n",
    "    False\n",
    "    \"\"\"\n",
    "    return not cum_OR(dividers(n))"
   ]
  },
  {
   "cell_type": "code",
   "execution_count": 13,
   "metadata": {
    "collapsed": false,
    "deletable": true,
    "editable": true
   },
   "outputs": [
    {
     "name": "stdout",
     "output_type": "stream",
     "text": [
      "**********************************************************************\n",
      "File \"__main__\", line 10, in prime\n",
      "Failed example:\n",
      "    prime(1)                                                            \n",
      "Expected:\n",
      "    False\n",
      "Got:\n",
      "    True\n"
     ]
    }
   ],
   "source": [
    "test(prime)"
   ]
  },
  {
   "cell_type": "code",
   "execution_count": 14,
   "metadata": {
    "collapsed": true,
    "deletable": true,
    "editable": true
   },
   "outputs": [],
   "source": [
    "def prime(n):\n",
    "    \"\"\"Return whether n is a prime number.                                  \n",
    "                                                                             \n",
    "    >>> prime(2)                                                            \n",
    "    True\n",
    "    >>> prime(3)                                                            \n",
    "    True\n",
    "    >>> prime(4)                                                            \n",
    "    False\n",
    "    >>> prime(1)                                                            \n",
    "    False\n",
    "    \"\"\"\n",
    "    if n < 2:\n",
    "        return False\n",
    "    else:\n",
    "        return not cum_OR(dividers(n))"
   ]
  },
  {
   "cell_type": "code",
   "execution_count": 15,
   "metadata": {
    "collapsed": false,
    "deletable": true,
    "editable": true
   },
   "outputs": [],
   "source": [
    "test(prime)"
   ]
  },
  {
   "cell_type": "code",
   "execution_count": 16,
   "metadata": {
    "collapsed": true,
    "deletable": true,
    "editable": true
   },
   "outputs": [],
   "source": [
    "def primes(n):\n",
    "    \"\"\" Return primes up to n.\n",
    "    \n",
    "    >>> primes(10)\n",
    "    [2, 3, 5, 7]\n",
    "    \"\"\"\n",
    "    return [i for i in range(2,n) if prime(i)]"
   ]
  },
  {
   "cell_type": "code",
   "execution_count": 17,
   "metadata": {
    "collapsed": false,
    "deletable": true,
    "editable": true
   },
   "outputs": [],
   "source": [
    "test(primes)"
   ]
  },
  {
   "cell_type": "code",
   "execution_count": 18,
   "metadata": {
    "collapsed": true,
    "deletable": true,
    "editable": true
   },
   "outputs": [],
   "source": [
    "def first_primes(k):\n",
    "    \"\"\" Return the first k primes.\n",
    "    \"\"\"\n",
    "    primes = []\n",
    "    num = 2\n",
    "    while len(primes) < k :\n",
    "        if prime(num):\n",
    "            primes = primes + [num]\n",
    "        num = num + 1\n",
    "    return primes"
   ]
  },
  {
   "cell_type": "code",
   "execution_count": 19,
   "metadata": {
    "collapsed": false,
    "deletable": true,
    "editable": true
   },
   "outputs": [
    {
     "data": {
      "text/plain": [
       "[2, 3, 5, 7, 11, 13, 17, 19, 23, 29]"
      ]
     },
     "execution_count": 19,
     "metadata": {},
     "output_type": "execute_result"
    }
   ],
   "source": [
    "first_primes(10)"
   ]
  }
 ],
 "metadata": {
  "anaconda-cloud": {},
  "kernelspec": {
   "display_name": "Python [default]",
   "language": "python",
   "name": "python3"
  },
  "language_info": {
   "codemirror_mode": {
    "name": "ipython",
    "version": 3
   },
   "file_extension": ".py",
   "mimetype": "text/x-python",
   "name": "python",
   "nbconvert_exporter": "python",
   "pygments_lexer": "ipython3",
   "version": "3.5.3"
  }
 },
 "nbformat": 4,
 "nbformat_minor": 2
}
